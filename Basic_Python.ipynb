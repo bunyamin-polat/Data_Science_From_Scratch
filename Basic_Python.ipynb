{
 "cells": [
  {
   "cell_type": "markdown",
   "metadata": {},
   "source": [
    "## Python\n",
    "- Python is a programming language originally developed by Guido Van Rossum in Amsterdam between 1991-1996.\n",
    "\n",
    "- Python got its name not from the Python snake, but from the show put on by developer Rossum's beloved comedy group MonthyPython."
   ]
  },
  {
   "cell_type": "markdown",
   "metadata": {},
   "source": [
    "## Why Python?\n",
    "\n",
    "- Python runs on different platforms (Windows, Mac, Linux, etc.).\n",
    "\n",
    "- It has a simple syntax similar to the English language.\n",
    "\n",
    "- It has syntax that allows developers to write programs with fewer lines than some other programming languages.\n",
    "\n",
    "- An interpreter runs on the system, meaning that code can be run as soon as it's written. This means that prototyping can be very fast.\n",
    "\n",
    "- With a simple syntax, it is easier to learn, read and develop faster than other programming languages.\n",
    "\n",
    "- It is an open source language.\n",
    "\n",
    "- It is freely available and distributed for commercial use.\n",
    "\n",
    "- It has a large library infrastructure and the development process is very fast thanks to these libraries."
   ]
  },
  {
   "cell_type": "markdown",
   "metadata": {},
   "source": [
    "## Python Syntax Compared to Other Programming Languages\n",
    "\n",
    "- Python uses newlines to complete a command, unlike other programming languages that often use semicolons or parentheses.\n",
    "\n",
    "- Python relies on indentation to define scope, using spaces; like loops, functions, and scope of classes. Other programming languages often use curly braces for this purpose."
   ]
  },
  {
   "cell_type": "code",
   "execution_count": 1,
   "metadata": {},
   "outputs": [
    {
     "name": "stdout",
     "output_type": "stream",
     "text": [
      "Hello world\n"
     ]
    }
   ],
   "source": [
    "print(\"Hello world\")"
   ]
  },
  {
   "cell_type": "code",
   "execution_count": 2,
   "metadata": {},
   "outputs": [
    {
     "name": "stdout",
     "output_type": "stream",
     "text": [
      "Hello world\n"
     ]
    }
   ],
   "source": [
    "print('Hello world')"
   ]
  },
  {
   "cell_type": "code",
   "execution_count": 3,
   "metadata": {},
   "outputs": [
    {
     "data": {
      "text/plain": [
       "'Hello world'"
      ]
     },
     "execution_count": 3,
     "metadata": {},
     "output_type": "execute_result"
    }
   ],
   "source": [
    "\"Hello world\""
   ]
  },
  {
   "cell_type": "code",
   "execution_count": 4,
   "metadata": {},
   "outputs": [
    {
     "data": {
      "text/plain": [
       "'Hello world'"
      ]
     },
     "execution_count": 4,
     "metadata": {},
     "output_type": "execute_result"
    }
   ],
   "source": [
    "\"\"\"Hello world\"\"\""
   ]
  },
  {
   "cell_type": "code",
   "execution_count": 5,
   "metadata": {},
   "outputs": [
    {
     "name": "stdout",
     "output_type": "stream",
     "text": [
      "Python is very useful\n"
     ]
    }
   ],
   "source": [
    "x = \"Python is \"\n",
    "y = \"very useful\"\n",
    "z =  x + y\n",
    "print(z)"
   ]
  },
  {
   "cell_type": "markdown",
   "metadata": {},
   "source": [
    "## Python Data Types"
   ]
  },
  {
   "cell_type": "markdown",
   "metadata": {},
   "source": [
    "### String"
   ]
  },
  {
   "cell_type": "code",
   "execution_count": 6,
   "metadata": {},
   "outputs": [
    {
     "name": "stdout",
     "output_type": "stream",
     "text": [
      "I am learning strings\n"
     ]
    }
   ],
   "source": [
    "text1 = \"I am learning strings\" # double quotes\n",
    "print(text1)"
   ]
  },
  {
   "cell_type": "code",
   "execution_count": 8,
   "metadata": {},
   "outputs": [
    {
     "name": "stdout",
     "output_type": "stream",
     "text": [
      "abc@gmail.com\n"
     ]
    }
   ],
   "source": [
    "e_mail = 'abc@gmail.com' # single quotes\n",
    "print(e_mail)"
   ]
  },
  {
   "cell_type": "code",
   "execution_count": null,
   "metadata": {},
   "outputs": [],
   "source": []
  }
 ],
 "metadata": {
  "interpreter": {
   "hash": "b43e3bcba8fb38bb7f22a28397abae1403f9ace30303b33fe691ce05946276b0"
  },
  "kernelspec": {
   "display_name": "Python 3.9.7 64-bit ('base': conda)",
   "language": "python",
   "name": "python3"
  },
  "language_info": {
   "codemirror_mode": {
    "name": "ipython",
    "version": 3
   },
   "file_extension": ".py",
   "mimetype": "text/x-python",
   "name": "python",
   "nbconvert_exporter": "python",
   "pygments_lexer": "ipython3",
   "version": "3.9.7"
  },
  "orig_nbformat": 4
 },
 "nbformat": 4,
 "nbformat_minor": 2
}
