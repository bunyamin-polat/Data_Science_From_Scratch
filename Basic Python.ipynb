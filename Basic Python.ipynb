{
 "cells": [
  {
   "cell_type": "markdown",
   "id": "3c7b2820",
   "metadata": {
    "id": "3c7b2820"
   },
   "source": [
    "## Python\n",
    "- Python is a programming language originally developed by Guido Van Rossum in Amsterdam between 1991-1996.\n",
    "\n",
    "- Python got its name not from the Python snake, but from the show put on by developer Rossum's beloved comedy group MonthyPython."
   ]
  },
  {
   "cell_type": "markdown",
   "id": "f5affbdf",
   "metadata": {
    "id": "f5affbdf"
   },
   "source": [
    "## Why Python?\n",
    "\n",
    "- Python runs on different platforms (Windows, Mac, Linux, etc.).\n",
    "\n",
    "- It has a simple syntax similar to the English language.\n",
    "\n",
    "- It has syntax that allows developers to write programs with fewer lines than some other programming languages.\n",
    "\n",
    "- An interpreter runs on the system, meaning that code can be run as soon as it's written. This means that prototyping can be very fast.\n",
    "\n",
    "- With a simple syntax, it is easier to learn, read and develop faster than other programming languages.\n",
    "\n",
    "- It is an open source language.\n",
    "\n",
    "- It is freely available and distributed for commercial use.\n",
    "\n",
    "- It has a large library infrastructure and the development process is very fast thanks to these libraries."
   ]
  },
  {
   "cell_type": "markdown",
   "id": "d3d27db2",
   "metadata": {
    "id": "d3d27db2"
   },
   "source": [
    "## Python Syntax Compared to Other Programming Languages\n",
    "\n",
    "- Python uses newlines to complete a command, unlike other programming languages that often use semicolons or parentheses.\n",
    "\n",
    "- Python relies on indentation to define scope, using spaces; like loops, functions, and scope of classes. Other programming languages often use curly braces for this purpose."
   ]
  },
  {
   "cell_type": "code",
   "execution_count": 103,
   "id": "e7377da0",
   "metadata": {
    "colab": {
     "base_uri": "https://localhost:8080/"
    },
    "executionInfo": {
     "elapsed": 396,
     "status": "ok",
     "timestamp": 1639915653457,
     "user": {
      "displayName": "Bünyamin Polat",
      "photoUrl": "https://lh3.googleusercontent.com/a/default-user=s64",
      "userId": "03982086590103784785"
     },
     "user_tz": -180
    },
    "id": "e7377da0",
    "outputId": "5d61b9b0-1f34-41fe-a86e-d0158cfcf480"
   },
   "outputs": [
    {
     "name": "stdout",
     "output_type": "stream",
     "text": [
      "Hello world\n"
     ]
    }
   ],
   "source": [
    "print(\"Hello world\")"
   ]
  },
  {
   "cell_type": "code",
   "execution_count": 104,
   "id": "0a81423f",
   "metadata": {
    "colab": {
     "base_uri": "https://localhost:8080/"
    },
    "executionInfo": {
     "elapsed": 61,
     "status": "ok",
     "timestamp": 1639915655171,
     "user": {
      "displayName": "Bünyamin Polat",
      "photoUrl": "https://lh3.googleusercontent.com/a/default-user=s64",
      "userId": "03982086590103784785"
     },
     "user_tz": -180
    },
    "id": "0a81423f",
    "outputId": "ae75d5f6-9ced-4a29-d81b-068146c2b881",
    "scrolled": true
   },
   "outputs": [
    {
     "name": "stdout",
     "output_type": "stream",
     "text": [
      "Hello world\n"
     ]
    }
   ],
   "source": [
    "print('Hello world')"
   ]
  },
  {
   "cell_type": "code",
   "execution_count": 105,
   "id": "2284c02a",
   "metadata": {
    "colab": {
     "base_uri": "https://localhost:8080/",
     "height": 35
    },
    "executionInfo": {
     "elapsed": 60,
     "status": "ok",
     "timestamp": 1639915655173,
     "user": {
      "displayName": "Bünyamin Polat",
      "photoUrl": "https://lh3.googleusercontent.com/a/default-user=s64",
      "userId": "03982086590103784785"
     },
     "user_tz": -180
    },
    "id": "2284c02a",
    "outputId": "e684cbfb-13ba-4407-a0f5-d03d04ce232f"
   },
   "outputs": [
    {
     "data": {
      "text/plain": [
       "'Hello world'"
      ]
     },
     "execution_count": 105,
     "metadata": {},
     "output_type": "execute_result"
    }
   ],
   "source": [
    "\"Hello world\""
   ]
  },
  {
   "cell_type": "code",
   "execution_count": 106,
   "id": "556c486f",
   "metadata": {
    "colab": {
     "base_uri": "https://localhost:8080/",
     "height": 35
    },
    "executionInfo": {
     "elapsed": 59,
     "status": "ok",
     "timestamp": 1639915655174,
     "user": {
      "displayName": "Bünyamin Polat",
      "photoUrl": "https://lh3.googleusercontent.com/a/default-user=s64",
      "userId": "03982086590103784785"
     },
     "user_tz": -180
    },
    "id": "556c486f",
    "outputId": "fdafe762-4562-41f3-fc31-958b37e47177"
   },
   "outputs": [
    {
     "data": {
      "text/plain": [
       "'Hello world'"
      ]
     },
     "execution_count": 106,
     "metadata": {},
     "output_type": "execute_result"
    }
   ],
   "source": [
    "\"\"\"Hello world\"\"\""
   ]
  },
  {
   "cell_type": "code",
   "execution_count": 107,
   "id": "f71be9e0",
   "metadata": {
    "colab": {
     "base_uri": "https://localhost:8080/"
    },
    "executionInfo": {
     "elapsed": 58,
     "status": "ok",
     "timestamp": 1639915655175,
     "user": {
      "displayName": "Bünyamin Polat",
      "photoUrl": "https://lh3.googleusercontent.com/a/default-user=s64",
      "userId": "03982086590103784785"
     },
     "user_tz": -180
    },
    "id": "f71be9e0",
    "outputId": "f741e825-2e6c-42f6-c4af-5e64faca124a"
   },
   "outputs": [
    {
     "name": "stdout",
     "output_type": "stream",
     "text": [
      "Python is very useful\n"
     ]
    }
   ],
   "source": [
    "x = \"Python is \"\n",
    "y = \"very useful\"\n",
    "z =  x + y\n",
    "print(z)"
   ]
  },
  {
   "cell_type": "markdown",
   "id": "cff3f7a4",
   "metadata": {},
   "source": [
    "## Python Data Types"
   ]
  },
  {
   "cell_type": "markdown",
   "id": "ee586e44",
   "metadata": {},
   "source": [
    "### String"
   ]
  },
  {
   "cell_type": "code",
   "execution_count": 108,
   "id": "4cbec088",
   "metadata": {},
   "outputs": [
    {
     "name": "stdout",
     "output_type": "stream",
     "text": [
      "I am learning strings\n"
     ]
    }
   ],
   "source": [
    "text1 = \"I am learning strings\" # double quotes\n",
    "print(text1)"
   ]
  },
  {
   "cell_type": "code",
   "execution_count": 109,
   "id": "2c14ea9b",
   "metadata": {},
   "outputs": [
    {
     "name": "stdout",
     "output_type": "stream",
     "text": [
      "abc@gmail.com\n"
     ]
    }
   ],
   "source": [
    "e_mail = 'abc@gmail.com' # single quotes\n",
    "print(e_mail)"
   ]
  },
  {
   "cell_type": "markdown",
   "id": "4d04c91e",
   "metadata": {},
   "source": [
    "### Integer-Float-Complex"
   ]
  },
  {
   "cell_type": "code",
   "execution_count": 110,
   "id": "f9813492",
   "metadata": {},
   "outputs": [
    {
     "name": "stdout",
     "output_type": "stream",
     "text": [
      "<class 'int'>\n",
      "<class 'float'>\n",
      "<class 'complex'>\n"
     ]
    }
   ],
   "source": [
    "x = 1    # int\n",
    "y = 2.8  # float\n",
    "z = 1j   # complex\n",
    "print(type(x))\n",
    "print(type(y))\n",
    "print(type(z))"
   ]
  },
  {
   "cell_type": "markdown",
   "id": "4d9d2256",
   "metadata": {},
   "source": [
    "### Boolean"
   ]
  },
  {
   "cell_type": "code",
   "execution_count": 111,
   "id": "4a84a6a5",
   "metadata": {},
   "outputs": [
    {
     "name": "stdout",
     "output_type": "stream",
     "text": [
      "<class 'bool'>\n"
     ]
    }
   ],
   "source": [
    "print(type(False))"
   ]
  },
  {
   "cell_type": "code",
   "execution_count": 112,
   "id": "c1de5743",
   "metadata": {},
   "outputs": [
    {
     "name": "stdout",
     "output_type": "stream",
     "text": [
      "<class 'bool'>\n"
     ]
    }
   ],
   "source": [
    "a = True\n",
    "print(type(a))"
   ]
  },
  {
   "cell_type": "markdown",
   "id": "3de63a82",
   "metadata": {},
   "source": [
    "### Type Casting(Type Conversion) \n",
    "\n",
    "- **str()** converts to string type\n",
    "- **int()** converts to signed integer type\n",
    "- **float()** converts to floating point type"
   ]
  },
  {
   "cell_type": "code",
   "execution_count": 113,
   "id": "3a8125aa",
   "metadata": {},
   "outputs": [
    {
     "name": "stdout",
     "output_type": "stream",
     "text": [
      "1.0\n",
      "2\n",
      "3\n",
      "4.2\n"
     ]
    }
   ],
   "source": [
    "x = float(1)\n",
    "y = int(2.8)\n",
    "z = int(\"3\")\n",
    "w = float(\"4.2\")\n",
    "\n",
    "print(x)\n",
    "print(y)\n",
    "print(z)\n",
    "print(w)"
   ]
  },
  {
   "cell_type": "code",
   "execution_count": 114,
   "id": "3ced14dd",
   "metadata": {},
   "outputs": [
    {
     "name": "stdout",
     "output_type": "stream",
     "text": [
      "<class 'str'>\n",
      "<class 'str'>\n",
      "<class 'int'>\n"
     ]
    }
   ],
   "source": [
    "x = str(1)\n",
    "y = str(2.8)\n",
    "z = int(\"3\")\n",
    "print(type(x))\n",
    "print(type(y))\n",
    "print(type(z))"
   ]
  },
  {
   "cell_type": "code",
   "execution_count": 115,
   "id": "d670617c",
   "metadata": {},
   "outputs": [
    {
     "name": "stdout",
     "output_type": "stream",
     "text": [
      "28\n",
      "36.5\n",
      "I am at_39\n"
     ]
    }
   ],
   "source": [
    "x = 39\n",
    "v = \"11\"\n",
    "y = \"2.5\"\n",
    "z = \"I am at_\"\n",
    "\n",
    "print(x-int(v))\n",
    "print(x-float(y))\n",
    "print(z+str(x))"
   ]
  },
  {
   "cell_type": "markdown",
   "id": "a2b3b206",
   "metadata": {},
   "source": [
    "## Variable Names\n",
    "- A Variable can have a short name (like x and y) or a more descriptive name (age, carname, total_volume).\n",
    "- Variable name must start with a letter or underscore character\n",
    "- Variable name cannot start with a number\n",
    "- Variable name can contain only alphanumeric characters and underscores (A-z, 0-9 and _ )\n",
    "- Variable names are case sensitive (age, Age, and AGE are three different Variables)\n",
    "- **min, max, in or, for** etc. certain Python keywords (name of a function or phrase) are not used as names"
   ]
  },
  {
   "cell_type": "code",
   "execution_count": 116,
   "id": "2599894e",
   "metadata": {},
   "outputs": [],
   "source": [
    "myvar = \"John\"\n",
    "my_var = 48\n",
    "_my_var = \"John\"\n",
    "myVar = \"John\"\n",
    "MYVAR = \"John\"\n",
    "myvar2 = \"John\""
   ]
  },
  {
   "cell_type": "code",
   "execution_count": 117,
   "id": "54e21ed0",
   "metadata": {},
   "outputs": [
    {
     "ename": "SyntaxError",
     "evalue": "invalid syntax (Temp/ipykernel_3232/2795342892.py, line 1)",
     "output_type": "error",
     "traceback": [
      "\u001b[1;36m  File \u001b[1;32m\"C:\\Users\\bp\\AppData\\Local\\Temp/ipykernel_3232/2795342892.py\"\u001b[1;36m, line \u001b[1;32m1\u001b[0m\n\u001b[1;33m    2myvar = \"John\"\u001b[0m\n\u001b[1;37m     ^\u001b[0m\n\u001b[1;31mSyntaxError\u001b[0m\u001b[1;31m:\u001b[0m invalid syntax\n"
     ]
    }
   ],
   "source": [
    "2myvar = \"John\"\n",
    "\n",
    "my-var = \"John\"\n",
    "\n",
    "my var = \"John\""
   ]
  },
  {
   "cell_type": "code",
   "execution_count": 118,
   "id": "b5984c17",
   "metadata": {},
   "outputs": [
    {
     "name": "stdout",
     "output_type": "stream",
     "text": [
      "5, 5, 5\n"
     ]
    }
   ],
   "source": [
    "a = 5\n",
    "b = 55\n",
    "c = 555\n",
    "c = a\n",
    "b = c\n",
    "a = b\n",
    "\n",
    "print(a, b, c, sep=', ')"
   ]
  },
  {
   "cell_type": "code",
   "execution_count": 119,
   "id": "15f62903",
   "metadata": {},
   "outputs": [
    {
     "name": "stdout",
     "output_type": "stream",
     "text": [
      "10\n",
      "8\n"
     ]
    }
   ],
   "source": [
    "a = 8\n",
    "b = 10\n",
    "print(b)\n",
    "b = a\n",
    "print(b)"
   ]
  },
  {
   "cell_type": "code",
   "execution_count": 120,
   "id": "4dcab127",
   "metadata": {},
   "outputs": [
    {
     "name": "stdout",
     "output_type": "stream",
     "text": [
      "Python is 23\n"
     ]
    }
   ],
   "source": [
    "x = 23\n",
    "print(\"Python is \" + str(x))"
   ]
  },
  {
   "cell_type": "code",
   "execution_count": 121,
   "id": "888cc564",
   "metadata": {},
   "outputs": [
    {
     "name": "stdout",
     "output_type": "stream",
     "text": [
      "Python is awesome\n"
     ]
    }
   ],
   "source": [
    "x = \"Python is \"\n",
    "y = \"awesome\"\n",
    "z =  x + y\n",
    "print(z)"
   ]
  },
  {
   "cell_type": "markdown",
   "id": "0b1c0c21",
   "metadata": {
    "id": "0b1c0c21"
   },
   "source": [
    "## Multiple Variable Assignment"
   ]
  },
  {
   "cell_type": "code",
   "execution_count": 122,
   "id": "ffe91ce7",
   "metadata": {
    "colab": {
     "base_uri": "https://localhost:8080/"
    },
    "executionInfo": {
     "elapsed": 73,
     "status": "ok",
     "timestamp": 1639915684021,
     "user": {
      "displayName": "Bünyamin Polat",
      "photoUrl": "https://lh3.googleusercontent.com/a/default-user=s64",
      "userId": "03982086590103784785"
     },
     "user_tz": -180
    },
    "id": "ffe91ce7",
    "outputId": "47b36931-589c-4daa-8483-e1f527730c87"
   },
   "outputs": [
    {
     "name": "stdout",
     "output_type": "stream",
     "text": [
      "Orange\n",
      "Banana\n",
      "3\n"
     ]
    }
   ],
   "source": [
    "x, y, z = \"Orange\", \"Banana\", 3\n",
    "print(x)\n",
    "print(y)\n",
    "print(z)"
   ]
  },
  {
   "cell_type": "code",
   "execution_count": 123,
   "id": "31155e93",
   "metadata": {
    "colab": {
     "base_uri": "https://localhost:8080/"
    },
    "executionInfo": {
     "elapsed": 69,
     "status": "ok",
     "timestamp": 1639915684021,
     "user": {
      "displayName": "Bünyamin Polat",
      "photoUrl": "https://lh3.googleusercontent.com/a/default-user=s64",
      "userId": "03982086590103784785"
     },
     "user_tz": -180
    },
    "id": "31155e93",
    "outputId": "b6e20df6-2374-42d4-84f7-e44a164f4653"
   },
   "outputs": [
    {
     "name": "stdout",
     "output_type": "stream",
     "text": [
      "Orange\n",
      "Orange\n",
      "Orange\n"
     ]
    }
   ],
   "source": [
    "x = y = z = \"Orange\"\n",
    "print(x)\n",
    "print(y)\n",
    "print(z)"
   ]
  },
  {
   "cell_type": "markdown",
   "id": "45771393",
   "metadata": {
    "id": "45771393"
   },
   "source": [
    "## Arithmetic Operations"
   ]
  },
  {
   "cell_type": "code",
   "execution_count": 124,
   "id": "15ce9d0d",
   "metadata": {
    "colab": {
     "base_uri": "https://localhost:8080/"
    },
    "executionInfo": {
     "elapsed": 68,
     "status": "ok",
     "timestamp": 1639915684021,
     "user": {
      "displayName": "Bünyamin Polat",
      "photoUrl": "https://lh3.googleusercontent.com/a/default-user=s64",
      "userId": "03982086590103784785"
     },
     "user_tz": -180
    },
    "id": "15ce9d0d",
    "outputId": "9a6de913-64fe-4df9-8f9c-a5bc14b00cee"
   },
   "outputs": [
    {
     "data": {
      "text/plain": [
       "9"
      ]
     },
     "execution_count": 124,
     "metadata": {},
     "output_type": "execute_result"
    }
   ],
   "source": [
    "3+6 # sum"
   ]
  },
  {
   "cell_type": "code",
   "execution_count": 125,
   "id": "57d61a8d",
   "metadata": {
    "colab": {
     "base_uri": "https://localhost:8080/"
    },
    "executionInfo": {
     "elapsed": 68,
     "status": "ok",
     "timestamp": 1639915684022,
     "user": {
      "displayName": "Bünyamin Polat",
      "photoUrl": "https://lh3.googleusercontent.com/a/default-user=s64",
      "userId": "03982086590103784785"
     },
     "user_tz": -180
    },
    "id": "57d61a8d",
    "outputId": "ec7b2b82-b49b-497d-e6bb-90dedc9fffe7"
   },
   "outputs": [
    {
     "data": {
      "text/plain": [
       "15"
      ]
     },
     "execution_count": 125,
     "metadata": {},
     "output_type": "execute_result"
    }
   ],
   "source": [
    "3*5 # product"
   ]
  },
  {
   "cell_type": "code",
   "execution_count": 126,
   "id": "17821d8d",
   "metadata": {
    "colab": {
     "base_uri": "https://localhost:8080/"
    },
    "executionInfo": {
     "elapsed": 67,
     "status": "ok",
     "timestamp": 1639915684022,
     "user": {
      "displayName": "Bünyamin Polat",
      "photoUrl": "https://lh3.googleusercontent.com/a/default-user=s64",
      "userId": "03982086590103784785"
     },
     "user_tz": -180
    },
    "id": "17821d8d",
    "outputId": "121ed97e-6f84-4c54-ddfe-eb63986c8997"
   },
   "outputs": [
    {
     "data": {
      "text/plain": [
       "-15"
      ]
     },
     "execution_count": 126,
     "metadata": {},
     "output_type": "execute_result"
    }
   ],
   "source": [
    "10-25 # subtract"
   ]
  },
  {
   "cell_type": "code",
   "execution_count": 127,
   "id": "b4ff7139",
   "metadata": {
    "colab": {
     "base_uri": "https://localhost:8080/"
    },
    "executionInfo": {
     "elapsed": 65,
     "status": "ok",
     "timestamp": 1639915684023,
     "user": {
      "displayName": "Bünyamin Polat",
      "photoUrl": "https://lh3.googleusercontent.com/a/default-user=s64",
      "userId": "03982086590103784785"
     },
     "user_tz": -180
    },
    "id": "b4ff7139",
    "outputId": "78eb0f25-245a-41b3-d2bc-afdb11def271"
   },
   "outputs": [
    {
     "data": {
      "text/plain": [
       "11.5"
      ]
     },
     "execution_count": 127,
     "metadata": {},
     "output_type": "execute_result"
    }
   ],
   "source": [
    "2.3*5 # product"
   ]
  },
  {
   "cell_type": "code",
   "execution_count": 128,
   "id": "43a2fe9a",
   "metadata": {
    "colab": {
     "base_uri": "https://localhost:8080/"
    },
    "executionInfo": {
     "elapsed": 65,
     "status": "ok",
     "timestamp": 1639915684025,
     "user": {
      "displayName": "Bünyamin Polat",
      "photoUrl": "https://lh3.googleusercontent.com/a/default-user=s64",
      "userId": "03982086590103784785"
     },
     "user_tz": -180
    },
    "id": "43a2fe9a",
    "outputId": "6203a767-ae7e-4ce0-84d3-e3deb3f02910"
   },
   "outputs": [
    {
     "data": {
      "text/plain": [
       "3.5"
      ]
     },
     "execution_count": 128,
     "metadata": {},
     "output_type": "execute_result"
    }
   ],
   "source": [
    "7/2 # division for float"
   ]
  },
  {
   "cell_type": "code",
   "execution_count": 129,
   "id": "99a123f0",
   "metadata": {
    "colab": {
     "base_uri": "https://localhost:8080/"
    },
    "executionInfo": {
     "elapsed": 65,
     "status": "ok",
     "timestamp": 1639915684026,
     "user": {
      "displayName": "Bünyamin Polat",
      "photoUrl": "https://lh3.googleusercontent.com/a/default-user=s64",
      "userId": "03982086590103784785"
     },
     "user_tz": -180
    },
    "id": "99a123f0",
    "outputId": "1acbf868-36ec-4345-9ffe-42474e6fb337"
   },
   "outputs": [
    {
     "data": {
      "text/plain": [
       "3"
      ]
     },
     "execution_count": 129,
     "metadata": {},
     "output_type": "execute_result"
    }
   ],
   "source": [
    "7//2 # division for integer partition"
   ]
  },
  {
   "cell_type": "code",
   "execution_count": 130,
   "id": "8a7d3489",
   "metadata": {
    "colab": {
     "base_uri": "https://localhost:8080/"
    },
    "executionInfo": {
     "elapsed": 65,
     "status": "ok",
     "timestamp": 1639915684026,
     "user": {
      "displayName": "Bünyamin Polat",
      "photoUrl": "https://lh3.googleusercontent.com/a/default-user=s64",
      "userId": "03982086590103784785"
     },
     "user_tz": -180
    },
    "id": "8a7d3489",
    "outputId": "bfe750c1-4922-4d74-e901-f23e8e8820d4"
   },
   "outputs": [
    {
     "data": {
      "text/plain": [
       "49"
      ]
     },
     "execution_count": 130,
     "metadata": {},
     "output_type": "execute_result"
    }
   ],
   "source": [
    "7**2 # power"
   ]
  },
  {
   "cell_type": "code",
   "execution_count": 131,
   "id": "77007c7e",
   "metadata": {
    "colab": {
     "base_uri": "https://localhost:8080/"
    },
    "executionInfo": {
     "elapsed": 65,
     "status": "ok",
     "timestamp": 1639915684027,
     "user": {
      "displayName": "Bünyamin Polat",
      "photoUrl": "https://lh3.googleusercontent.com/a/default-user=s64",
      "userId": "03982086590103784785"
     },
     "user_tz": -180
    },
    "id": "77007c7e",
    "outputId": "59880078-6c0b-4881-fb35-ab6f34843b29"
   },
   "outputs": [
    {
     "data": {
      "text/plain": [
       "7.0"
      ]
     },
     "execution_count": 131,
     "metadata": {},
     "output_type": "execute_result"
    }
   ],
   "source": [
    "49**0.5 # this return square root of number"
   ]
  },
  {
   "cell_type": "code",
   "execution_count": 132,
   "id": "95ed89be",
   "metadata": {
    "colab": {
     "base_uri": "https://localhost:8080/"
    },
    "executionInfo": {
     "elapsed": 61,
     "status": "ok",
     "timestamp": 1639915684030,
     "user": {
      "displayName": "Bünyamin Polat",
      "photoUrl": "https://lh3.googleusercontent.com/a/default-user=s64",
      "userId": "03982086590103784785"
     },
     "user_tz": -180
    },
    "id": "95ed89be",
    "outputId": "d639827b-a348-4795-a67d-75a6b8bccdac"
   },
   "outputs": [
    {
     "name": "stdout",
     "output_type": "stream",
     "text": [
      "1\n"
     ]
    }
   ],
   "source": [
    "print(9 % 2) # modulo operations"
   ]
  },
  {
   "cell_type": "code",
   "execution_count": 133,
   "id": "6d18214c",
   "metadata": {
    "colab": {
     "base_uri": "https://localhost:8080/"
    },
    "executionInfo": {
     "elapsed": 64,
     "status": "ok",
     "timestamp": 1639915684027,
     "user": {
      "displayName": "Bünyamin Polat",
      "photoUrl": "https://lh3.googleusercontent.com/a/default-user=s64",
      "userId": "03982086590103784785"
     },
     "user_tz": -180
    },
    "id": "6d18214c",
    "outputId": "c7f54bcf-ffbe-4020-c8c6-bf8e4b2961ec"
   },
   "outputs": [
    {
     "name": "stdout",
     "output_type": "stream",
     "text": [
      "15\n",
      "19\n",
      "23\n"
     ]
    }
   ],
   "source": [
    "print(4 + 11)\n",
    "print(8 + 11)\n",
    "print(12 + 11)"
   ]
  },
  {
   "cell_type": "code",
   "execution_count": 134,
   "id": "20c195f8",
   "metadata": {
    "colab": {
     "base_uri": "https://localhost:8080/"
    },
    "executionInfo": {
     "elapsed": 64,
     "status": "ok",
     "timestamp": 1639915684028,
     "user": {
      "displayName": "Bünyamin Polat",
      "photoUrl": "https://lh3.googleusercontent.com/a/default-user=s64",
      "userId": "03982086590103784785"
     },
     "user_tz": -180
    },
    "id": "20c195f8",
    "outputId": "5a208fa5-5b2a-44c3-8c11-f0834057c81e"
   },
   "outputs": [
    {
     "name": "stdout",
     "output_type": "stream",
     "text": [
      "40.0\n"
     ]
    }
   ],
   "source": [
    "print(39 + 1.0) # The result of adding an integer value and a float value is a float value"
   ]
  },
  {
   "cell_type": "code",
   "execution_count": 135,
   "id": "46bb1ed1",
   "metadata": {
    "colab": {
     "base_uri": "https://localhost:8080/"
    },
    "executionInfo": {
     "elapsed": 63,
     "status": "ok",
     "timestamp": 1639915684028,
     "user": {
      "displayName": "Bünyamin Polat",
      "photoUrl": "https://lh3.googleusercontent.com/a/default-user=s64",
      "userId": "03982086590103784785"
     },
     "user_tz": -180
    },
    "id": "46bb1ed1",
    "outputId": "c46b6ecd-aa90-4c7f-a09d-b91590aea226"
   },
   "outputs": [
    {
     "name": "stdout",
     "output_type": "stream",
     "text": [
      "38.0\n"
     ]
    }
   ],
   "source": [
    "print(39 - 1.0)"
   ]
  },
  {
   "cell_type": "code",
   "execution_count": 136,
   "id": "99716f3d",
   "metadata": {
    "colab": {
     "base_uri": "https://localhost:8080/"
    },
    "executionInfo": {
     "elapsed": 63,
     "status": "ok",
     "timestamp": 1639915684029,
     "user": {
      "displayName": "Bünyamin Polat",
      "photoUrl": "https://lh3.googleusercontent.com/a/default-user=s64",
      "userId": "03982086590103784785"
     },
     "user_tz": -180
    },
    "id": "99716f3d",
    "outputId": "8468a3c7-95b3-4706-92de-da2da36aa55c"
   },
   "outputs": [
    {
     "name": "stdout",
     "output_type": "stream",
     "text": [
      "-6\n"
     ]
    }
   ],
   "source": [
    "no1, no2 = 46, 52\n",
    "no3 = no1 - no2\n",
    "print(no3)"
   ]
  },
  {
   "cell_type": "code",
   "execution_count": 137,
   "id": "15f441b8",
   "metadata": {
    "colab": {
     "base_uri": "https://localhost:8080/"
    },
    "executionInfo": {
     "elapsed": 62,
     "status": "ok",
     "timestamp": 1639915684029,
     "user": {
      "displayName": "Bünyamin Polat",
      "photoUrl": "https://lh3.googleusercontent.com/a/default-user=s64",
      "userId": "03982086590103784785"
     },
     "user_tz": -180
    },
    "id": "15f441b8",
    "outputId": "859f2561-ec72-42d2-b0dc-6cbded05af31"
   },
   "outputs": [
    {
     "name": "stdout",
     "output_type": "stream",
     "text": [
      "2.0\n"
     ]
    }
   ],
   "source": [
    "no1 = 46\n",
    "print(no1/23)"
   ]
  },
  {
   "cell_type": "code",
   "execution_count": 138,
   "id": "e874c1c1",
   "metadata": {
    "colab": {
     "base_uri": "https://localhost:8080/"
    },
    "executionInfo": {
     "elapsed": 62,
     "status": "ok",
     "timestamp": 1639915684031,
     "user": {
      "displayName": "Bünyamin Polat",
      "photoUrl": "https://lh3.googleusercontent.com/a/default-user=s64",
      "userId": "03982086590103784785"
     },
     "user_tz": -180
    },
    "id": "e874c1c1",
    "outputId": "728cfcc0-4e5f-4a4c-aad9-0844471850d2"
   },
   "outputs": [
    {
     "name": "stdout",
     "output_type": "stream",
     "text": [
      "6.0\n"
     ]
    }
   ],
   "source": [
    "print((3 * 4)/2)"
   ]
  },
  {
   "cell_type": "code",
   "execution_count": 139,
   "id": "33c1f1a0",
   "metadata": {
    "colab": {
     "base_uri": "https://localhost:8080/"
    },
    "executionInfo": {
     "elapsed": 60,
     "status": "ok",
     "timestamp": 1639915684031,
     "user": {
      "displayName": "Bünyamin Polat",
      "photoUrl": "https://lh3.googleusercontent.com/a/default-user=s64",
      "userId": "03982086590103784785"
     },
     "user_tz": -180
    },
    "id": "33c1f1a0",
    "outputId": "2ba740ed-5b80-4e28-fd0b-3a35e548d07e"
   },
   "outputs": [
    {
     "name": "stdout",
     "output_type": "stream",
     "text": [
      "8.0\n"
     ]
    }
   ],
   "source": [
    "print(64**0.5)"
   ]
  },
  {
   "cell_type": "code",
   "execution_count": 140,
   "id": "352653d5",
   "metadata": {
    "colab": {
     "base_uri": "https://localhost:8080/"
    },
    "executionInfo": {
     "elapsed": 60,
     "status": "ok",
     "timestamp": 1639915684032,
     "user": {
      "displayName": "Bünyamin Polat",
      "photoUrl": "https://lh3.googleusercontent.com/a/default-user=s64",
      "userId": "03982086590103784785"
     },
     "user_tz": -180
    },
    "id": "352653d5",
    "outputId": "b6fb9c26-06c9-4fb6-b8e5-c0069883f998"
   },
   "outputs": [
    {
     "name": "stdout",
     "output_type": "stream",
     "text": [
      "Result of this (12+7) sum : 19\n"
     ]
    }
   ],
   "source": [
    "print('Result of this (12+7) sum :', 12 + 7)"
   ]
  },
  {
   "cell_type": "markdown",
   "id": "8cd4932b",
   "metadata": {
    "id": "8cd4932b"
   },
   "source": [
    "**Operation precedence of arithmetic operators**\n",
    "\n",
    "- parentheses : ()\n",
    "- power : **\n",
    "- unary minus : -3\n",
    "- multiplication and division : *, /\n",
    "- addition and subtraction : +, -"
   ]
  },
  {
   "cell_type": "markdown",
   "id": "06492b86",
   "metadata": {
    "id": "06492b86"
   },
   "source": [
    "## Print Function"
   ]
  },
  {
   "cell_type": "code",
   "execution_count": 141,
   "id": "b2632e61",
   "metadata": {
    "colab": {
     "base_uri": "https://localhost:8080/"
    },
    "executionInfo": {
     "elapsed": 58,
     "status": "ok",
     "timestamp": 1639915684033,
     "user": {
      "displayName": "Bünyamin Polat",
      "photoUrl": "https://lh3.googleusercontent.com/a/default-user=s64",
      "userId": "03982086590103784785"
     },
     "user_tz": -180
    },
    "id": "b2632e61",
    "outputId": "0fbb2b96-5a7c-4613-da7a-3828e6e64ea6"
   },
   "outputs": [
    {
     "name": "stdout",
     "output_type": "stream",
     "text": [
      "i\n",
      "will say\n",
      "'i missed you'\n",
      "to my mother\n"
     ]
    }
   ],
   "source": [
    "print('i') # sep default \\n\n",
    "print('will say')\n",
    "print(\"'i missed you'\")\n",
    "print('to my mother')"
   ]
  },
  {
   "cell_type": "code",
   "execution_count": 142,
   "id": "968afa48",
   "metadata": {
    "colab": {
     "base_uri": "https://localhost:8080/"
    },
    "executionInfo": {
     "elapsed": 58,
     "status": "ok",
     "timestamp": 1639915684034,
     "user": {
      "displayName": "Bünyamin Polat",
      "photoUrl": "https://lh3.googleusercontent.com/a/default-user=s64",
      "userId": "03982086590103784785"
     },
     "user_tz": -180
    },
    "id": "968afa48",
    "outputId": "71683fe1-4ee8-421f-9ee4-19ded7e3bddd"
   },
   "outputs": [
    {
     "name": "stdout",
     "output_type": "stream",
     "text": [
      "smoking + is + slowly + killing me\n"
     ]
    }
   ],
   "source": [
    "print('smoking', 'is', 'slowly', 'killing me', sep=' + ')"
   ]
  },
  {
   "cell_type": "code",
   "execution_count": 143,
   "id": "e3920338",
   "metadata": {
    "colab": {
     "base_uri": "https://localhost:8080/"
    },
    "executionInfo": {
     "elapsed": 58,
     "status": "ok",
     "timestamp": 1639915684035,
     "user": {
      "displayName": "Bünyamin Polat",
      "photoUrl": "https://lh3.googleusercontent.com/a/default-user=s64",
      "userId": "03982086590103784785"
     },
     "user_tz": -180
    },
    "id": "e3920338",
    "outputId": "47e82e8d-be8a-412e-818d-40a89d9c5014"
   },
   "outputs": [
    {
     "name": "stdout",
     "output_type": "stream",
     "text": [
      "one\ttwo\tthree\n"
     ]
    }
   ],
   "source": [
    "print(\"one\", \"two\", \"three\", sep=\"\\t\")"
   ]
  },
  {
   "cell_type": "code",
   "execution_count": 144,
   "id": "6a4e5743",
   "metadata": {
    "colab": {
     "base_uri": "https://localhost:8080/"
    },
    "executionInfo": {
     "elapsed": 58,
     "status": "ok",
     "timestamp": 1639915684036,
     "user": {
      "displayName": "Bünyamin Polat",
      "photoUrl": "https://lh3.googleusercontent.com/a/default-user=s64",
      "userId": "03982086590103784785"
     },
     "user_tz": -180
    },
    "id": "6a4e5743",
    "outputId": "eb1cbb66-98d4-45d9-dd1c-ca8cbd0dab18"
   },
   "outputs": [
    {
     "name": "stdout",
     "output_type": "stream",
     "text": [
      "it's funny to learn Python\n"
     ]
    }
   ],
   "source": [
    "print('it\\'s funny to learn Python') "
   ]
  },
  {
   "cell_type": "code",
   "execution_count": 145,
   "id": "2963e88f",
   "metadata": {
    "colab": {
     "base_uri": "https://localhost:8080/"
    },
    "executionInfo": {
     "elapsed": 55,
     "status": "ok",
     "timestamp": 1639915684036,
     "user": {
      "displayName": "Bünyamin Polat",
      "photoUrl": "https://lh3.googleusercontent.com/a/default-user=s64",
      "userId": "03982086590103784785"
     },
     "user_tz": -180
    },
    "id": "2963e88f",
    "outputId": "43bf7de1-1d60-4f87-f0ba-bdab9ce80b69"
   },
   "outputs": [
    {
     "name": "stdout",
     "output_type": "stream",
     "text": [
      "it's funny to learn Python\n"
     ]
    }
   ],
   "source": [
    "print(\"it's funny to learn Python\") "
   ]
  },
  {
   "cell_type": "code",
   "execution_count": 146,
   "id": "50ea5623",
   "metadata": {
    "colab": {
     "base_uri": "https://localhost:8080/",
     "height": 135
    },
    "executionInfo": {
     "elapsed": 55,
     "status": "error",
     "timestamp": 1639915684037,
     "user": {
      "displayName": "Bünyamin Polat",
      "photoUrl": "https://lh3.googleusercontent.com/a/default-user=s64",
      "userId": "03982086590103784785"
     },
     "user_tz": -180
    },
    "id": "50ea5623",
    "outputId": "371527e2-ad5f-47a3-de2d-21cd99d6c635"
   },
   "outputs": [
    {
     "ename": "SyntaxError",
     "evalue": "invalid syntax (Temp/ipykernel_3232/2143702360.py, line 1)",
     "output_type": "error",
     "traceback": [
      "\u001b[1;36m  File \u001b[1;32m\"C:\\Users\\bp\\AppData\\Local\\Temp/ipykernel_3232/2143702360.py\"\u001b[1;36m, line \u001b[1;32m1\u001b[0m\n\u001b[1;33m    print('it's funny to learn Python')\u001b[0m\n\u001b[1;37m              ^\u001b[0m\n\u001b[1;31mSyntaxError\u001b[0m\u001b[1;31m:\u001b[0m invalid syntax\n"
     ]
    }
   ],
   "source": [
    "print('it's funny to learn Python') "
   ]
  },
  {
   "cell_type": "markdown",
   "id": "6630e4d0",
   "metadata": {
    "id": "6630e4d0"
   },
   "source": [
    "## Logic Expressions"
   ]
  },
  {
   "cell_type": "markdown",
   "id": "cb043711",
   "metadata": {
    "id": "cb043711"
   },
   "source": [
    "**Operation priority**\n",
    " 1. not\n",
    " 2. and\n",
    " 3. or"
   ]
  },
  {
   "cell_type": "code",
   "execution_count": 147,
   "id": "c6a0e1a0",
   "metadata": {},
   "outputs": [
    {
     "name": "stdout",
     "output_type": "stream",
     "text": [
      "True\n"
     ]
    }
   ],
   "source": [
    "logic = True and False or not False or False\n",
    "print(logic)"
   ]
  },
  {
   "cell_type": "markdown",
   "id": "52983fdb",
   "metadata": {
    "id": "52983fdb"
   },
   "source": [
    "## Indexing&Slicing Strings\n",
    "\n",
    "**string[start:stop:step]** Format\n",
    "\n",
    "**string[:]** : Returns the entire string\n",
    "\n",
    "**string[start:]** : Returns the part from the start value to the end\n",
    "\n",
    "**string[:stop]** : Returns the part from the first element of the string (stop-1) to the element\n",
    "\n",
    "**string[::step]** : Returns all elements according to the entered step range"
   ]
  },
  {
   "cell_type": "code",
   "execution_count": 148,
   "id": "6e422498",
   "metadata": {
    "colab": {
     "base_uri": "https://localhost:8080/",
     "height": 0
    },
    "executionInfo": {
     "elapsed": 46,
     "status": "ok",
     "timestamp": 1639915684039,
     "user": {
      "displayName": "Bünyamin Polat",
      "photoUrl": "https://lh3.googleusercontent.com/a/default-user=s64",
      "userId": "03982086590103784785"
     },
     "user_tz": -180
    },
    "id": "6e422498",
    "outputId": "5f542239-f61d-44af-9894-580bd4278b79"
   },
   "outputs": [
    {
     "data": {
      "text/plain": [
       "'O'"
      ]
     },
     "execution_count": 148,
     "metadata": {},
     "output_type": "execute_result"
    }
   ],
   "source": [
    "fruit = 'Orange'\n",
    "fruit[0]"
   ]
  },
  {
   "cell_type": "code",
   "execution_count": 149,
   "id": "e10c8488",
   "metadata": {},
   "outputs": [
    {
     "data": {
      "text/plain": [
       "'r'"
      ]
     },
     "execution_count": 149,
     "metadata": {},
     "output_type": "execute_result"
    }
   ],
   "source": [
    "fruit[1]"
   ]
  },
  {
   "cell_type": "code",
   "execution_count": 150,
   "id": "3392503a",
   "metadata": {},
   "outputs": [
    {
     "data": {
      "text/plain": [
       "'ang'"
      ]
     },
     "execution_count": 150,
     "metadata": {},
     "output_type": "execute_result"
    }
   ],
   "source": [
    "fruit[2:5]"
   ]
  },
  {
   "cell_type": "code",
   "execution_count": 151,
   "id": "ab8119b7",
   "metadata": {
    "colab": {
     "base_uri": "https://localhost:8080/"
    },
    "executionInfo": {
     "elapsed": 50,
     "status": "ok",
     "timestamp": 1639915684044,
     "user": {
      "displayName": "Bünyamin Polat",
      "photoUrl": "https://lh3.googleusercontent.com/a/default-user=s64",
      "userId": "03982086590103784785"
     },
     "user_tz": -180
    },
    "id": "ab8119b7",
    "outputId": "0af2e418-b0a0-47f8-810e-bca452398f94"
   },
   "outputs": [
    {
     "name": "stdout",
     "output_type": "stream",
     "text": [
      "Word : Orange\n",
      "First letter : O\n",
      "Second letter :  r\n",
      "3rd to 5th letters     :  ang\n"
     ]
    }
   ],
   "source": [
    "print('Word :' , fruit)\n",
    "print('First letter :' , fruit[0])\n",
    "print('Second letter : ' , fruit[1])\n",
    "print(\"3rd to 5th letters     : \" , fruit[2:5])"
   ]
  },
  {
   "cell_type": "code",
   "execution_count": 152,
   "id": "76596b65",
   "metadata": {
    "colab": {
     "base_uri": "https://localhost:8080/"
    },
    "executionInfo": {
     "elapsed": 49,
     "status": "ok",
     "timestamp": 1639915684045,
     "user": {
      "displayName": "Bünyamin Polat",
      "photoUrl": "https://lh3.googleusercontent.com/a/default-user=s64",
      "userId": "03982086590103784785"
     },
     "user_tz": -180
    },
    "id": "76596b65",
    "outputId": "9eba1c3e-8599-4fc8-bf27-1c3c0a9e3914"
   },
   "outputs": [
    {
     "name": "stdout",
     "output_type": "stream",
     "text": [
      "First letter : O\n"
     ]
    }
   ],
   "source": [
    "print('First letter :' , fruit[0])"
   ]
  },
  {
   "cell_type": "code",
   "execution_count": 153,
   "id": "5f59af21",
   "metadata": {
    "colab": {
     "base_uri": "https://localhost:8080/"
    },
    "executionInfo": {
     "elapsed": 48,
     "status": "ok",
     "timestamp": 1639915684046,
     "user": {
      "displayName": "Bünyamin Polat",
      "photoUrl": "https://lh3.googleusercontent.com/a/default-user=s64",
      "userId": "03982086590103784785"
     },
     "user_tz": -180
    },
    "id": "5f59af21",
    "outputId": "261c9d15-57aa-41a4-9252-25e2e4267e64"
   },
   "outputs": [
    {
     "name": "stdout",
     "output_type": "stream",
     "text": [
      "Second letter :  r\n"
     ]
    }
   ],
   "source": [
    "print('Second letter : ' , fruit[1])"
   ]
  },
  {
   "cell_type": "code",
   "execution_count": 154,
   "id": "5d704b37",
   "metadata": {
    "colab": {
     "base_uri": "https://localhost:8080/"
    },
    "executionInfo": {
     "elapsed": 114,
     "status": "ok",
     "timestamp": 1639915685300,
     "user": {
      "displayName": "Bünyamin Polat",
      "photoUrl": "https://lh3.googleusercontent.com/a/default-user=s64",
      "userId": "03982086590103784785"
     },
     "user_tz": -180
    },
    "id": "5d704b37",
    "outputId": "6dc3b0ee-4c6c-461e-de78-78cab42f4774"
   },
   "outputs": [
    {
     "name": "stdout",
     "output_type": "stream",
     "text": [
      "3rd to 5th letters     :  ang\n"
     ]
    }
   ],
   "source": [
    "print(\"3rd to 5th letters     : \" , fruit[2:5])"
   ]
  },
  {
   "cell_type": "code",
   "execution_count": 155,
   "id": "1318642c",
   "metadata": {
    "colab": {
     "base_uri": "https://localhost:8080/"
    },
    "executionInfo": {
     "elapsed": 100,
     "status": "ok",
     "timestamp": 1639915685301,
     "user": {
      "displayName": "Bünyamin Polat",
      "photoUrl": "https://lh3.googleusercontent.com/a/default-user=s64",
      "userId": "03982086590103784785"
     },
     "user_tz": -180
    },
    "id": "1318642c",
    "outputId": "c527c9c7-ce26-4387-aa7c-836138a848bc"
   },
   "outputs": [
    {
     "name": "stdout",
     "output_type": "stream",
     "text": [
      "Letter all after 3rd   :  ange\n"
     ]
    }
   ],
   "source": [
    "print(\"Letter all after 3rd   : \" , fruit[2:])"
   ]
  },
  {
   "cell_type": "code",
   "execution_count": 156,
   "id": "8a4b06f1",
   "metadata": {},
   "outputs": [
    {
     "data": {
      "text/plain": [
       "'Oran'"
      ]
     },
     "execution_count": 156,
     "metadata": {},
     "output_type": "execute_result"
    }
   ],
   "source": [
    "fruit[:4]"
   ]
  },
  {
   "cell_type": "code",
   "execution_count": 157,
   "id": "b4e83dd8",
   "metadata": {
    "colab": {
     "base_uri": "https://localhost:8080/"
    },
    "executionInfo": {
     "elapsed": 98,
     "status": "ok",
     "timestamp": 1639915685301,
     "user": {
      "displayName": "Bünyamin Polat",
      "photoUrl": "https://lh3.googleusercontent.com/a/default-user=s64",
      "userId": "03982086590103784785"
     },
     "user_tz": -180
    },
    "id": "b4e83dd8",
    "outputId": "0d1bbc48-2c51-48b2-9d27-880d2a15220d"
   },
   "outputs": [
    {
     "name": "stdout",
     "output_type": "stream",
     "text": [
      "hoenix\n",
      "Phoeni\n",
      "Ponx\n",
      "hei\n",
      "nix\n",
      "xineohP\n"
     ]
    }
   ],
   "source": [
    "city = 'Phoenix'\n",
    "\n",
    "print(city[1:]) \n",
    "print(city[:6]) \n",
    "print(city[::2])  \n",
    "print(city[1::2]) \n",
    "print(city[-3:])\n",
    "print(city[::-1])"
   ]
  },
  {
   "cell_type": "markdown",
   "id": "6f806781",
   "metadata": {
    "id": "6f806781"
   },
   "source": [
    "![](https://drive.google.com/uc?id=185UFaEPYvo8mT4xTzxbiL9ec5EcyIx1y)"
   ]
  },
  {
   "cell_type": "markdown",
   "id": "ec80db2b",
   "metadata": {
    "id": "ec80db2b"
   },
   "source": [
    "### len() function"
   ]
  },
  {
   "cell_type": "code",
   "execution_count": 158,
   "id": "5b8eabc0",
   "metadata": {
    "colab": {
     "base_uri": "https://localhost:8080/"
    },
    "executionInfo": {
     "elapsed": 98,
     "status": "ok",
     "timestamp": 1639915685302,
     "user": {
      "displayName": "Bünyamin Polat",
      "photoUrl": "https://lh3.googleusercontent.com/a/default-user=s64",
      "userId": "03982086590103784785"
     },
     "user_tz": -180
    },
    "id": "5b8eabc0",
    "outputId": "ee00097f-96a3-4148-c551-3861810f1808"
   },
   "outputs": [
    {
     "name": "stdout",
     "output_type": "stream",
     "text": [
      "length of the word Tomato is : 6\n"
     ]
    }
   ],
   "source": [
    "vegetable = 'Tomato'\n",
    "print('length of the word', vegetable, 'is :', len(vegetable))"
   ]
  },
  {
   "cell_type": "markdown",
   "id": "62000cbe",
   "metadata": {
    "id": "62000cbe"
   },
   "source": [
    "## String Format"
   ]
  },
  {
   "cell_type": "markdown",
   "id": "0b40df56",
   "metadata": {
    "id": "0b40df56"
   },
   "source": [
    "* Arithmetic syntax **(+, *, and =)**\n",
    "\n",
    "* **%** operator formatting\n",
    "\n",
    "* **string.format()** method\n",
    "\n",
    "* **f-string** formatting"
   ]
  },
  {
   "cell_type": "markdown",
   "id": "0028ea28",
   "metadata": {
    "id": "0028ea28"
   },
   "source": [
    "### Arithmetic syntax"
   ]
  },
  {
   "cell_type": "code",
   "execution_count": 159,
   "id": "acd995ce",
   "metadata": {
    "colab": {
     "base_uri": "https://localhost:8080/"
    },
    "executionInfo": {
     "elapsed": 96,
     "status": "ok",
     "timestamp": 1639915685302,
     "user": {
      "displayName": "Bünyamin Polat",
      "photoUrl": "https://lh3.googleusercontent.com/a/default-user=s64",
      "userId": "03982086590103784785"
     },
     "user_tz": -180
    },
    "id": "acd995ce",
    "outputId": "062f88e2-136d-480a-d468-82b78c7a1a91"
   },
   "outputs": [
    {
     "name": "stdout",
     "output_type": "stream",
     "text": [
      "Data Science\n"
     ]
    }
   ],
   "source": [
    "print('Data ' + 'Science')"
   ]
  },
  {
   "cell_type": "code",
   "execution_count": 160,
   "id": "45a18f13",
   "metadata": {
    "colab": {
     "base_uri": "https://localhost:8080/"
    },
    "executionInfo": {
     "elapsed": 96,
     "status": "ok",
     "timestamp": 1639915685303,
     "user": {
      "displayName": "Bünyamin Polat",
      "photoUrl": "https://lh3.googleusercontent.com/a/default-user=s64",
      "userId": "03982086590103784785"
     },
     "user_tz": -180
    },
    "id": "45a18f13",
    "outputId": "54691920-785d-4dcf-f2f5-10cde7e68dd2"
   },
   "outputs": [
    {
     "name": "stdout",
     "output_type": "stream",
     "text": [
      "Data\n",
      "Data\n",
      "Data\n",
      "Data\n",
      "Data\n",
      "Data\n",
      "Data\n",
      "Data\n",
      "Data\n",
      "Data\n",
      "\n"
     ]
    }
   ],
   "source": [
    "print(10*'Data\\n')\n",
    "#for i in range(10):\n",
    "#    print(\"Vizyon\")"
   ]
  },
  {
   "cell_type": "code",
   "execution_count": 161,
   "id": "13c031e8",
   "metadata": {
    "colab": {
     "base_uri": "https://localhost:8080/"
    },
    "executionInfo": {
     "elapsed": 95,
     "status": "ok",
     "timestamp": 1639915685303,
     "user": {
      "displayName": "Bünyamin Polat",
      "photoUrl": "https://lh3.googleusercontent.com/a/default-user=s64",
      "userId": "03982086590103784785"
     },
     "user_tz": -180
    },
    "id": "13c031e8",
    "outputId": "4faeae91-150f-43bc-c313-85e4730b219f"
   },
   "outputs": [
    {
     "name": "stdout",
     "output_type": "stream",
     "text": [
      "sciencesciencesciencesciencescience\n"
     ]
    }
   ],
   "source": [
    "print(\"science\"*5)"
   ]
  },
  {
   "cell_type": "code",
   "execution_count": 162,
   "id": "111e5134",
   "metadata": {
    "colab": {
     "base_uri": "https://localhost:8080/"
    },
    "executionInfo": {
     "elapsed": 93,
     "status": "ok",
     "timestamp": 1639915685303,
     "user": {
      "displayName": "Bünyamin Polat",
      "photoUrl": "https://lh3.googleusercontent.com/a/default-user=s64",
      "userId": "03982086590103784785"
     },
     "user_tz": -180
    },
    "id": "111e5134",
    "outputId": "cdd9272b-fc6a-48ab-e287-79501405fd21"
   },
   "outputs": [
    {
     "name": "stdout",
     "output_type": "stream",
     "text": [
      "orange apple\n"
     ]
    }
   ],
   "source": [
    "fruit = 'orange'\n",
    "fruit += ' apple'\n",
    "\n",
    "print(fruit)"
   ]
  },
  {
   "cell_type": "code",
   "execution_count": 163,
   "id": "7d79710f",
   "metadata": {
    "colab": {
     "base_uri": "https://localhost:8080/"
    },
    "executionInfo": {
     "elapsed": 92,
     "status": "ok",
     "timestamp": 1639915685304,
     "user": {
      "displayName": "Bünyamin Polat",
      "photoUrl": "https://lh3.googleusercontent.com/a/default-user=s64",
      "userId": "03982086590103784785"
     },
     "user_tz": -180
    },
    "id": "7d79710f",
    "outputId": "962e57a6-4e59-4593-c6fe-c60cec88e1bf"
   },
   "outputs": [
    {
     "name": "stdout",
     "output_type": "stream",
     "text": [
      "orange apple banana apricot\n"
     ]
    }
   ],
   "source": [
    "fruit = 'orange'\n",
    "fruit += ' apple'\n",
    "fruit += ' banana'\n",
    "fruit += ' apricot'\n",
    "\n",
    "print(fruit)"
   ]
  },
  {
   "cell_type": "markdown",
   "id": "6012264c",
   "metadata": {
    "id": "6012264c"
   },
   "source": [
    "### '%' Operator"
   ]
  },
  {
   "cell_type": "code",
   "execution_count": 164,
   "id": "e8cab936",
   "metadata": {
    "colab": {
     "base_uri": "https://localhost:8080/"
    },
    "executionInfo": {
     "elapsed": 90,
     "status": "ok",
     "timestamp": 1639915685304,
     "user": {
      "displayName": "Bünyamin Polat",
      "photoUrl": "https://lh3.googleusercontent.com/a/default-user=s64",
      "userId": "03982086590103784785"
     },
     "user_tz": -180
    },
    "id": "e8cab936",
    "outputId": "802e797e-7708-49d2-f891-9daec6e7a8eb"
   },
   "outputs": [
    {
     "name": "stdout",
     "output_type": "stream",
     "text": [
      "I have 1 sister and 2 brother\n"
     ]
    }
   ],
   "source": [
    "phrase = 'I have %d %s and %d brother' % (1, \"sister\", 2)  \n",
    "print (phrase)"
   ]
  },
  {
   "cell_type": "markdown",
   "id": "7f375c89",
   "metadata": {
    "id": "7f375c89"
   },
   "source": [
    "### 'string.format()' Method\n",
    "\n",
    "**Enhanced version of % operator**"
   ]
  },
  {
   "cell_type": "code",
   "execution_count": 165,
   "id": "2dbcc8e6",
   "metadata": {
    "colab": {
     "base_uri": "https://localhost:8080/"
    },
    "executionInfo": {
     "elapsed": 89,
     "status": "ok",
     "timestamp": 1639915685304,
     "user": {
      "displayName": "Bünyamin Polat",
      "photoUrl": "https://lh3.googleusercontent.com/a/default-user=s64",
      "userId": "03982086590103784785"
     },
     "user_tz": -180
    },
    "id": "2dbcc8e6",
    "outputId": "9f72ce82-3e15-407e-d0fe-6f2703443e72"
   },
   "outputs": [
    {
     "name": "stdout",
     "output_type": "stream",
     "text": [
      "The amount of Orange we bought is 4 pounds\n"
     ]
    }
   ],
   "source": [
    "fruit = 'Orange'\n",
    "vegetable = 'Tomato'\n",
    "amount = 4\n",
    "print('The amount of {} we bought is {} pounds'.format(fruit, amount))\n",
    "\n",
    "# the order in the format is important!!!"
   ]
  },
  {
   "cell_type": "code",
   "execution_count": 166,
   "id": "3f1c99b0",
   "metadata": {
    "colab": {
     "base_uri": "https://localhost:8080/"
    },
    "executionInfo": {
     "elapsed": 88,
     "status": "ok",
     "timestamp": 1639915685305,
     "user": {
      "displayName": "Bünyamin Polat",
      "photoUrl": "https://lh3.googleusercontent.com/a/default-user=s64",
      "userId": "03982086590103784785"
     },
     "user_tz": -180
    },
    "id": "3f1c99b0",
    "outputId": "216bea3d-1195-48fa-b784-413d990f2ce1"
   },
   "outputs": [
    {
     "name": "stdout",
     "output_type": "stream",
     "text": [
      "California is the most crowded state of the USA\n"
     ]
    }
   ],
   "source": [
    "print('{state} is the most {adjective} state of the {country}'.format(state='California', country='USA', adjective='crowded'))\n",
    "\n",
    "# order doesn't matter here"
   ]
  },
  {
   "cell_type": "markdown",
   "id": "d6e3fb9e",
   "metadata": {
    "id": "d6e3fb9e"
   },
   "source": [
    "### 'f-string'"
   ]
  },
  {
   "cell_type": "code",
   "execution_count": 167,
   "id": "dbedda98",
   "metadata": {
    "colab": {
     "base_uri": "https://localhost:8080/"
    },
    "executionInfo": {
     "elapsed": 87,
     "status": "ok",
     "timestamp": 1639915685305,
     "user": {
      "displayName": "Bünyamin Polat",
      "photoUrl": "https://lh3.googleusercontent.com/a/default-user=s64",
      "userId": "03982086590103784785"
     },
     "user_tz": -180
    },
    "id": "dbedda98",
    "outputId": "c9622048-2407-427e-95d8-4008274dd184"
   },
   "outputs": [
    {
     "name": "stdout",
     "output_type": "stream",
     "text": [
      "The amount of Orange and Tomato we bought are totally 6 pounds\n"
     ]
    }
   ],
   "source": [
    "fruit = 'Orange'\n",
    "vegetable = 'Tomato'\n",
    "amount = 6\n",
    "output = f\"The amount of {fruit} and {vegetable} we bought are totally {amount} pounds\"\n",
    "\n",
    "print(output)"
   ]
  },
  {
   "cell_type": "code",
   "execution_count": 168,
   "id": "4ccdc5b8",
   "metadata": {
    "colab": {
     "base_uri": "https://localhost:8080/"
    },
    "executionInfo": {
     "elapsed": 86,
     "status": "ok",
     "timestamp": 1639915685305,
     "user": {
      "displayName": "Bünyamin Polat",
      "photoUrl": "https://lh3.googleusercontent.com/a/default-user=s64",
      "userId": "03982086590103784785"
     },
     "user_tz": -180
    },
    "id": "4ccdc5b8",
    "outputId": "9e147867-d532-46cd-f368-80b93ba3285c"
   },
   "outputs": [
    {
     "name": "stdout",
     "output_type": "stream",
     "text": [
      "20\n"
     ]
    }
   ],
   "source": [
    "result = f\"{4 * 5}\"\n",
    "print(result)"
   ]
  },
  {
   "cell_type": "code",
   "execution_count": 169,
   "id": "cd103f99",
   "metadata": {
    "colab": {
     "base_uri": "https://localhost:8080/"
    },
    "executionInfo": {
     "elapsed": 86,
     "status": "ok",
     "timestamp": 1639915685306,
     "user": {
      "displayName": "Bünyamin Polat",
      "photoUrl": "https://lh3.googleusercontent.com/a/default-user=s64",
      "userId": "03982086590103784785"
     },
     "user_tz": -180
    },
    "id": "cd103f99",
    "outputId": "01928962-cfd3-42c5-b584-78f020b69001"
   },
   "outputs": [
    {
     "name": "stdout",
     "output_type": "stream",
     "text": [
      "Hi Bünyamin.You are Data Scientist\n"
     ]
    }
   ],
   "source": [
    "# Using f-string on multiple lines\n",
    "\n",
    "name = \"Bünyamin\"\n",
    "job = \"Data Scientist\"\n",
    "message = f\"Hi {name}.\"\\\n",
    "    f\"You are {job}\"\n",
    "\n",
    "print(message)"
   ]
  },
  {
   "cell_type": "markdown",
   "id": "8zSJYzOnkT7M",
   "metadata": {
    "id": "8zSJYzOnkT7M"
   },
   "source": [
    "# Main String Operations"
   ]
  },
  {
   "cell_type": "markdown",
   "id": "ac48c272",
   "metadata": {
    "id": "ac48c272"
   },
   "source": [
    "### Searching"
   ]
  },
  {
   "cell_type": "code",
   "execution_count": 170,
   "id": "b7899b93",
   "metadata": {
    "colab": {
     "base_uri": "https://localhost:8080/"
    },
    "executionInfo": {
     "elapsed": 85,
     "status": "ok",
     "timestamp": 1639915685306,
     "user": {
      "displayName": "Bünyamin Polat",
      "photoUrl": "https://lh3.googleusercontent.com/a/default-user=s64",
      "userId": "03982086590103784785"
     },
     "user_tz": -180
    },
    "id": "b7899b93",
    "outputId": "d6cb2088-ae8c-433b-a84b-b454d716d2e9"
   },
   "outputs": [
    {
     "name": "stdout",
     "output_type": "stream",
     "text": [
      "False\n",
      "True\n"
     ]
    }
   ],
   "source": [
    "text = 'www.google.com'\n",
    "print(text.endswith('.net'))\n",
    "print(text.startswith('www'))"
   ]
  },
  {
   "cell_type": "code",
   "execution_count": 171,
   "id": "2e48b624",
   "metadata": {
    "colab": {
     "base_uri": "https://localhost:8080/"
    },
    "executionInfo": {
     "elapsed": 85,
     "status": "ok",
     "timestamp": 1639915685307,
     "user": {
      "displayName": "Bünyamin Polat",
      "photoUrl": "https://lh3.googleusercontent.com/a/default-user=s64",
      "userId": "03982086590103784785"
     },
     "user_tz": -180
    },
    "id": "2e48b624",
    "outputId": "01cd2bcf-9f2e-47ff-dd63-cb2cb8d31b83"
   },
   "outputs": [
    {
     "name": "stdout",
     "output_type": "stream",
     "text": [
      "True\n",
      "False\n"
     ]
    }
   ],
   "source": [
    "text = 'www.google.com'\n",
    "print(text.endswith('om'))\n",
    "print(text.startswith('viz'))"
   ]
  },
  {
   "cell_type": "code",
   "execution_count": 172,
   "id": "7dbb4bfc",
   "metadata": {
    "colab": {
     "base_uri": "https://localhost:8080/"
    },
    "executionInfo": {
     "elapsed": 84,
     "status": "ok",
     "timestamp": 1639915685307,
     "user": {
      "displayName": "Bünyamin Polat",
      "photoUrl": "https://lh3.googleusercontent.com/a/default-user=s64",
      "userId": "03982086590103784785"
     },
     "user_tz": -180
    },
    "id": "7dbb4bfc",
    "outputId": "276cb4f4-f6bc-47b3-f760-1f74da496434"
   },
   "outputs": [
    {
     "name": "stdout",
     "output_type": "stream",
     "text": [
      "False\n",
      "False\n"
     ]
    }
   ],
   "source": [
    "email = \"abcxyz123@gmail.com is my e-mail address\"\n",
    "print(email.startswith(\"@\", 10))\n",
    "print(email.endswith(\"-\", 10, 29))"
   ]
  },
  {
   "cell_type": "markdown",
   "id": "39ef2904",
   "metadata": {
    "id": "39ef2904"
   },
   "source": [
    "### Changing a String"
   ]
  },
  {
   "cell_type": "code",
   "execution_count": 173,
   "id": "cb1dffcb",
   "metadata": {
    "colab": {
     "base_uri": "https://localhost:8080/"
    },
    "executionInfo": {
     "elapsed": 85,
     "status": "ok",
     "timestamp": 1639915685308,
     "user": {
      "displayName": "Bünyamin Polat",
      "photoUrl": "https://lh3.googleusercontent.com/a/default-user=s64",
      "userId": "03982086590103784785"
     },
     "user_tz": -180
    },
    "id": "cb1dffcb",
    "outputId": "2582c869-f09d-4225-fd65-f3d643883c4f"
   },
   "outputs": [
    {
     "name": "stdout",
     "output_type": "stream",
     "text": [
      "I live and work in Istanbul\n",
      "\n",
      "I LIVE AND WORK IN ISTANBUL\n",
      "\n",
      "i live and work in istanbul\n",
      "\n",
      "i LIVE AND WORK IN iSTANBUL\n",
      "\n",
      "I Live And Work In Istanbul\n",
      "\n",
      "I live and work in istanbul\n",
      "\n",
      "I l+ve and work +n Istanbul\n",
      "\n"
     ]
    }
   ],
   "source": [
    "sentence = \"I live and work in Istanbul\\n\"\n",
    "\n",
    "print(sentence)\n",
    "\n",
    "print(sentence.upper()) # Makes all letters uppercase\n",
    "\n",
    "print(sentence.lower()) # Changes all letters to lowercase\n",
    "\n",
    "print(sentence.swapcase()) # Makes uppercase letters lowercase and lowercase letters uppercase\n",
    "\n",
    "print(sentence.title()) # Title format, the first letter of each word is uppercase\n",
    "\n",
    "print(sentence.capitalize()) # Sentence format, first letter of sentence capitalized\n",
    "\n",
    "print(sentence.replace(\"i\", \"+\")) # Replaces i with +\n"
   ]
  },
  {
   "cell_type": "code",
   "execution_count": 174,
   "id": "df783010",
   "metadata": {
    "colab": {
     "base_uri": "https://localhost:8080/"
    },
    "executionInfo": {
     "elapsed": 85,
     "status": "ok",
     "timestamp": 1639915685309,
     "user": {
      "displayName": "Bünyamin Polat",
      "photoUrl": "https://lh3.googleusercontent.com/a/default-user=s64",
      "userId": "03982086590103784785"
     },
     "user_tz": -180
    },
    "id": "df783010",
    "outputId": "ef632935-b9a9-4fa2-cae8-2d4332b7fc0f"
   },
   "outputs": [
    {
     "name": "stdout",
     "output_type": "stream",
     "text": [
      "Bunyamin\n"
     ]
    }
   ],
   "source": [
    "word = \"BunYamiN\"\n",
    "print(word.upper().swapcase().capitalize())"
   ]
  },
  {
   "cell_type": "markdown",
   "id": "fc63e8a8",
   "metadata": {
    "id": "fc63e8a8"
   },
   "source": [
    "### Editing a String\n",
    "\n",
    "- **str.strip()** : Removes empty or specified characters from both sides of the string\n",
    "- **str.rstrip()** : Removes empty or specified characters from the right side of the string\n",
    "- **str.lstrip()** : Deletes empty or specified characters from the left side of the string"
   ]
  },
  {
   "cell_type": "code",
   "execution_count": 175,
   "id": "09519bb7",
   "metadata": {
    "colab": {
     "base_uri": "https://localhost:8080/"
    },
    "executionInfo": {
     "elapsed": 83,
     "status": "ok",
     "timestamp": 1639915685310,
     "user": {
      "displayName": "Bünyamin Polat",
      "photoUrl": "https://lh3.googleusercontent.com/a/default-user=s64",
      "userId": "03982086590103784785"
     },
     "user_tz": -180
    },
    "id": "09519bb7",
    "outputId": "7394991c-c19a-4bc5-83a5-8df1b899767a"
   },
   "outputs": [
    {
     "name": "stdout",
     "output_type": "stream",
     "text": [
      "data science\n"
     ]
    }
   ],
   "source": [
    "string = \"     data science      \"\n",
    "print(string.strip())  "
   ]
  },
  {
   "cell_type": "code",
   "execution_count": 176,
   "id": "f7dcb18a",
   "metadata": {
    "colab": {
     "base_uri": "https://localhost:8080/"
    },
    "executionInfo": {
     "elapsed": 82,
     "status": "ok",
     "timestamp": 1639915685310,
     "user": {
      "displayName": "Bünyamin Polat",
      "photoUrl": "https://lh3.googleusercontent.com/a/default-user=s64",
      "userId": "03982086590103784785"
     },
     "user_tz": -180
    },
    "id": "f7dcb18a",
    "outputId": "e7bf1e87-5fda-4db7-a1c9-e602ba2844e0"
   },
   "outputs": [
    {
     "name": "stdout",
     "output_type": "stream",
     "text": [
      "nteroperabilit\n"
     ]
    }
   ],
   "source": [
    "string = \"interoperability\"\n",
    "print(string.strip(\"yi\")) # Deletes \"y\" or \"i\" or \"yi\" or \"iy\" from both sides"
   ]
  },
  {
   "cell_type": "code",
   "execution_count": 177,
   "id": "133225d7",
   "metadata": {
    "colab": {
     "base_uri": "https://localhost:8080/"
    },
    "executionInfo": {
     "elapsed": 81,
     "status": "ok",
     "timestamp": 1639915685311,
     "user": {
      "displayName": "Bünyamin Polat",
      "photoUrl": "https://lh3.googleusercontent.com/a/default-user=s64",
      "userId": "03982086590103784785"
     },
     "user_tz": -180
    },
    "id": "133225d7",
    "outputId": "db0f6c4b-85a2-485b-b526-b5a54daac34c"
   },
   "outputs": [
    {
     "name": "stdout",
     "output_type": "stream",
     "text": [
      "teroperability\n"
     ]
    }
   ],
   "source": [
    "print(string.lstrip(\"in\"))"
   ]
  },
  {
   "cell_type": "code",
   "execution_count": 178,
   "id": "00085421",
   "metadata": {
    "colab": {
     "base_uri": "https://localhost:8080/"
    },
    "executionInfo": {
     "elapsed": 82,
     "status": "ok",
     "timestamp": 1639915685312,
     "user": {
      "displayName": "Bünyamin Polat",
      "photoUrl": "https://lh3.googleusercontent.com/a/default-user=s64",
      "userId": "03982086590103784785"
     },
     "user_tz": -180
    },
    "id": "00085421",
    "outputId": "8dcec6f6-3ca3-488d-abf0-52d3d69e9cd5"
   },
   "outputs": [
    {
     "name": "stdout",
     "output_type": "stream",
     "text": [
      "     data science\n"
     ]
    }
   ],
   "source": [
    "string = \"     data science      \"\n",
    "print(string.rstrip())  # Removed the space on the right"
   ]
  },
  {
   "cell_type": "markdown",
   "id": "GKYfRZ1AXDQr",
   "metadata": {
    "id": "GKYfRZ1AXDQr"
   },
   "source": [
    "### Join"
   ]
  },
  {
   "cell_type": "code",
   "execution_count": 179,
   "id": "AR2W9rlYXKXu",
   "metadata": {
    "colab": {
     "base_uri": "https://localhost:8080/"
    },
    "executionInfo": {
     "elapsed": 82,
     "status": "ok",
     "timestamp": 1639915685313,
     "user": {
      "displayName": "Bünyamin Polat",
      "photoUrl": "https://lh3.googleusercontent.com/a/default-user=s64",
      "userId": "03982086590103784785"
     },
     "user_tz": -180
    },
    "id": "AR2W9rlYXKXu",
    "outputId": "731d9ea4-3742-4377-8754-664606e6958b"
   },
   "outputs": [
    {
     "name": "stdout",
     "output_type": "stream",
     "text": [
      "Python is a fun programming language\n"
     ]
    }
   ],
   "source": [
    "text = ['Python', 'is', 'a', 'fun', 'programming', 'language']\n",
    "\n",
    "print(' '.join(text))"
   ]
  },
  {
   "cell_type": "code",
   "execution_count": 180,
   "id": "FhgRhnMpXOQ4",
   "metadata": {
    "colab": {
     "base_uri": "https://localhost:8080/",
     "height": 0
    },
    "executionInfo": {
     "elapsed": 83,
     "status": "ok",
     "timestamp": 1639915685315,
     "user": {
      "displayName": "Bünyamin Polat",
      "photoUrl": "https://lh3.googleusercontent.com/a/default-user=s64",
      "userId": "03982086590103784785"
     },
     "user_tz": -180
    },
    "id": "FhgRhnMpXOQ4",
    "outputId": "d25b5499-c202-447c-c7f8-5c2839bad582"
   },
   "outputs": [
    {
     "data": {
      "text/plain": [
       "'Python is a fun programming language'"
      ]
     },
     "execution_count": 180,
     "metadata": {},
     "output_type": "execute_result"
    }
   ],
   "source": [
    "' '.join(text)"
   ]
  },
  {
   "cell_type": "code",
   "execution_count": 181,
   "id": "ZYsUEPugXOcg",
   "metadata": {
    "colab": {
     "base_uri": "https://localhost:8080/",
     "height": 0
    },
    "executionInfo": {
     "elapsed": 83,
     "status": "ok",
     "timestamp": 1639915685317,
     "user": {
      "displayName": "Bünyamin Polat",
      "photoUrl": "https://lh3.googleusercontent.com/a/default-user=s64",
      "userId": "03982086590103784785"
     },
     "user_tz": -180
    },
    "id": "ZYsUEPugXOcg",
    "outputId": "460a55d6-a17c-4a45-d16e-5e341bf9316c"
   },
   "outputs": [
    {
     "data": {
      "text/plain": [
       "'Python_is_a_fun_programming_language'"
      ]
     },
     "execution_count": 181,
     "metadata": {},
     "output_type": "execute_result"
    }
   ],
   "source": [
    "'_'.join(text)"
   ]
  },
  {
   "cell_type": "markdown",
   "id": "903f0f81",
   "metadata": {
    "id": "903f0f81"
   },
   "source": [
    "# Collection Types"
   ]
  },
  {
   "cell_type": "markdown",
   "id": "12288bb4",
   "metadata": {
    "id": "12288bb4"
   },
   "source": [
    "## List"
   ]
  },
  {
   "cell_type": "code",
   "execution_count": 182,
   "id": "03fcc7ea",
   "metadata": {
    "colab": {
     "base_uri": "https://localhost:8080/"
    },
    "executionInfo": {
     "elapsed": 83,
     "status": "ok",
     "timestamp": 1639915685318,
     "user": {
      "displayName": "Bünyamin Polat",
      "photoUrl": "https://lh3.googleusercontent.com/a/default-user=s64",
      "userId": "03982086590103784785"
     },
     "user_tz": -180
    },
    "id": "03fcc7ea",
    "outputId": "0036982c-07c9-474f-82f0-b989a526051c"
   },
   "outputs": [
    {
     "name": "stdout",
     "output_type": "stream",
     "text": [
      "<class 'list'>\n"
     ]
    }
   ],
   "source": [
    "a = []\n",
    "print(type(a))"
   ]
  },
  {
   "cell_type": "code",
   "execution_count": 183,
   "id": "7463b389",
   "metadata": {
    "colab": {
     "base_uri": "https://localhost:8080/"
    },
    "executionInfo": {
     "elapsed": 84,
     "status": "ok",
     "timestamp": 1639915685321,
     "user": {
      "displayName": "Bünyamin Polat",
      "photoUrl": "https://lh3.googleusercontent.com/a/default-user=s64",
      "userId": "03982086590103784785"
     },
     "user_tz": -180
    },
    "id": "7463b389",
    "outputId": "a69d154b-e051-4b85-caf7-537ab27be5ad"
   },
   "outputs": [
    {
     "name": "stdout",
     "output_type": "stream",
     "text": [
      "['a', 'b', '1', '2']\n"
     ]
    }
   ],
   "source": [
    "b = [\"a\",\"b\",\"1\",\"2\"]\n",
    "print(b)"
   ]
  },
  {
   "cell_type": "code",
   "execution_count": 184,
   "id": "f889b767",
   "metadata": {
    "colab": {
     "base_uri": "https://localhost:8080/"
    },
    "executionInfo": {
     "elapsed": 85,
     "status": "ok",
     "timestamp": 1639915685323,
     "user": {
      "displayName": "Bünyamin Polat",
      "photoUrl": "https://lh3.googleusercontent.com/a/default-user=s64",
      "userId": "03982086590103784785"
     },
     "user_tz": -180
    },
    "id": "f889b767",
    "outputId": "bc05c57d-45cd-40cb-bdce-6bb9550064ea"
   },
   "outputs": [
    {
     "name": "stdout",
     "output_type": "stream",
     "text": [
      "<class 'list'>\n"
     ]
    }
   ],
   "source": [
    "c = list()\n",
    "print(type(c))"
   ]
  },
  {
   "cell_type": "markdown",
   "id": "18ca1e66",
   "metadata": {
    "id": "18ca1e66"
   },
   "source": [
    "- Lists can contain more than one of the same value\n",
    "- Supports multiple data types"
   ]
  },
  {
   "cell_type": "code",
   "execution_count": 185,
   "id": "568de7a7",
   "metadata": {
    "executionInfo": {
     "elapsed": 86,
     "status": "ok",
     "timestamp": 1639915685328,
     "user": {
      "displayName": "Bünyamin Polat",
      "photoUrl": "https://lh3.googleusercontent.com/a/default-user=s64",
      "userId": "03982086590103784785"
     },
     "user_tz": -180
    },
    "id": "568de7a7"
   },
   "outputs": [],
   "source": [
    "mixed_list = [11, 'data', False, 3.14, None, [1, 2, 3]]"
   ]
  },
  {
   "cell_type": "markdown",
   "id": "e38613a3",
   "metadata": {
    "id": "e38613a3"
   },
   "source": [
    "### Adding and deleting elements from the list\n",
    "\n",
    "- To add an element to the list\n",
    "    -  .append()\n",
    "    -  .insert()\n",
    "- To delete an element from the list\n",
    "    - .remove()"
   ]
  },
  {
   "cell_type": "code",
   "execution_count": 186,
   "id": "e960e5fd",
   "metadata": {
    "colab": {
     "base_uri": "https://localhost:8080/"
    },
    "executionInfo": {
     "elapsed": 88,
     "status": "ok",
     "timestamp": 1639915685330,
     "user": {
      "displayName": "Bünyamin Polat",
      "photoUrl": "https://lh3.googleusercontent.com/a/default-user=s64",
      "userId": "03982086590103784785"
     },
     "user_tz": -180
    },
    "id": "e960e5fd",
    "outputId": "dfcc96ce-ebb4-4054-b12d-a9740c6da35c"
   },
   "outputs": [
    {
     "name": "stdout",
     "output_type": "stream",
     "text": [
      "['34', 'istanbul']\n"
     ]
    }
   ],
   "source": [
    "# append() method -> adds the element to the list after the last index\n",
    "list_3 = []\n",
    "list_3.append(\"34\")\n",
    "list_3.append(\"istanbul\")\n",
    "print(list_3)"
   ]
  },
  {
   "cell_type": "code",
   "execution_count": 187,
   "id": "b57f0890",
   "metadata": {
    "colab": {
     "base_uri": "https://localhost:8080/"
    },
    "executionInfo": {
     "elapsed": 86,
     "status": "ok",
     "timestamp": 1639915685331,
     "user": {
      "displayName": "Bünyamin Polat",
      "photoUrl": "https://lh3.googleusercontent.com/a/default-user=s64",
      "userId": "03982086590103784785"
     },
     "user_tz": -180
    },
    "id": "b57f0890",
    "outputId": "59b0e2dc-92d0-430c-a852-a5d167c2e9be"
   },
   "outputs": [
    {
     "name": "stdout",
     "output_type": "stream",
     "text": [
      "['New York', 'London', 'Istanbul', 'Seoul', 'Sydney', 'Addis Ababa']\n"
     ]
    }
   ],
   "source": [
    "city = ['New York', 'London', 'Istanbul', 'Seoul', 'Sydney']\n",
    "city.append('Addis Ababa')\n",
    "\n",
    "print(city) "
   ]
  },
  {
   "cell_type": "markdown",
   "id": "97edc33f",
   "metadata": {
    "id": "97edc33f"
   },
   "source": [
    "![](https://drive.google.com/uc?id=1zN2E26dOuTRqJ40gAQSQDZeUIwYdn01Q)"
   ]
  },
  {
   "cell_type": "code",
   "execution_count": 188,
   "id": "c6ba7099",
   "metadata": {
    "colab": {
     "base_uri": "https://localhost:8080/"
    },
    "executionInfo": {
     "elapsed": 87,
     "status": "ok",
     "timestamp": 1639915685333,
     "user": {
      "displayName": "Bünyamin Polat",
      "photoUrl": "https://lh3.googleusercontent.com/a/default-user=s64",
      "userId": "03982086590103784785"
     },
     "user_tz": -180
    },
    "id": "c6ba7099",
    "outputId": "df4b1d65-57fe-45a2-b37c-b9c7dedbac59"
   },
   "outputs": [
    {
     "name": "stdout",
     "output_type": "stream",
     "text": [
      "['New York', 'London', 'Stockholm', 'Istanbul', 'Seoul', 'Sydney', 'Addis Ababa']\n"
     ]
    }
   ],
   "source": [
    "# insert method -> adds the element to the list to the given index\n",
    "city = ['New York', 'London', 'Istanbul', 'Seoul', 'Sydney', 'Addis Ababa']\n",
    "city.insert(2, 'Stockholm')\n",
    "\n",
    "print(city)"
   ]
  },
  {
   "cell_type": "markdown",
   "id": "e51c8de3",
   "metadata": {
    "id": "e51c8de3"
   },
   "source": [
    "![](https://drive.google.com/uc?id=1QVUPY2ONhd6PYI1L2FtSXnfl_rEJYVvJ)"
   ]
  },
  {
   "cell_type": "code",
   "execution_count": 189,
   "id": "20367606",
   "metadata": {
    "colab": {
     "base_uri": "https://localhost:8080/"
    },
    "executionInfo": {
     "elapsed": 87,
     "status": "ok",
     "timestamp": 1639915685334,
     "user": {
      "displayName": "Bünyamin Polat",
      "photoUrl": "https://lh3.googleusercontent.com/a/default-user=s64",
      "userId": "03982086590103784785"
     },
     "user_tz": -180
    },
    "id": "20367606",
    "outputId": "df502d95-7012-477a-854b-56bf2cc66f68"
   },
   "outputs": [
    {
     "name": "stdout",
     "output_type": "stream",
     "text": [
      "['New York', 'Stockholm', 'Istanbul', 'Seoul', 'Sydney', 'Addis Ababa']\n"
     ]
    }
   ],
   "source": [
    "city = ['New York', 'London', 'Stockholm', 'Istanbul', 'Seoul', 'Sydney', 'Addis Ababa']\n",
    "\n",
    "city.remove('London')\n",
    "\n",
    "print(city)"
   ]
  },
  {
   "cell_type": "markdown",
   "id": "d34defc0",
   "metadata": {
    "id": "d34defc0"
   },
   "source": [
    "### Sort and calculate size"
   ]
  },
  {
   "cell_type": "code",
   "execution_count": 190,
   "id": "811656ec",
   "metadata": {
    "colab": {
     "base_uri": "https://localhost:8080/"
    },
    "executionInfo": {
     "elapsed": 88,
     "status": "ok",
     "timestamp": 1639915685337,
     "user": {
      "displayName": "Bünyamin Polat",
      "photoUrl": "https://lh3.googleusercontent.com/a/default-user=s64",
      "userId": "03982086590103784785"
     },
     "user_tz": -180
    },
    "id": "811656ec",
    "outputId": "0b77f1e3-ae2a-4862-a609-87457322270d"
   },
   "outputs": [
    {
     "name": "stdout",
     "output_type": "stream",
     "text": [
      "6\n"
     ]
    },
    {
     "data": {
      "text/plain": [
       "6"
      ]
     },
     "execution_count": 190,
     "metadata": {},
     "output_type": "execute_result"
    }
   ],
   "source": [
    "city = ['Addis Ababa', 'Istanbul', 'New York', 'Seoul', 'Stockholm', 'Sydney']\n",
    "\n",
    "print(len(city))\n",
    "\n",
    "len(city)"
   ]
  },
  {
   "cell_type": "code",
   "execution_count": 191,
   "id": "f048d52f",
   "metadata": {
    "colab": {
     "base_uri": "https://localhost:8080/"
    },
    "executionInfo": {
     "elapsed": 90,
     "status": "ok",
     "timestamp": 1639915685340,
     "user": {
      "displayName": "Bünyamin Polat",
      "photoUrl": "https://lh3.googleusercontent.com/a/default-user=s64",
      "userId": "03982086590103784785"
     },
     "user_tz": -180
    },
    "id": "f048d52f",
    "outputId": "cd717312-1bae-4a6a-e4fb-a4ce09444d37"
   },
   "outputs": [
    {
     "data": {
      "text/plain": [
       "6"
      ]
     },
     "execution_count": 191,
     "metadata": {},
     "output_type": "execute_result"
    }
   ],
   "source": [
    "len(city)"
   ]
  },
  {
   "cell_type": "code",
   "execution_count": 192,
   "id": "aa96d44d",
   "metadata": {
    "colab": {
     "base_uri": "https://localhost:8080/"
    },
    "executionInfo": {
     "elapsed": 90,
     "status": "ok",
     "timestamp": 1639915685341,
     "user": {
      "displayName": "Bünyamin Polat",
      "photoUrl": "https://lh3.googleusercontent.com/a/default-user=s64",
      "userId": "03982086590103784785"
     },
     "user_tz": -180
    },
    "id": "aa96d44d",
    "outputId": "bb3a9812-c5ce-42ea-c6fb-7cbe9e56315d"
   },
   "outputs": [
    {
     "name": "stdout",
     "output_type": "stream",
     "text": [
      "['Addis Ababa', 'Istanbul', 'New York', 'Seoul', 'Stockholm', 'Sydney']\n"
     ]
    }
   ],
   "source": [
    "city = ['Addis Ababa', 'Istanbul', 'New York', 'Seoul', 'Stockholm', 'Sydney']\n",
    "\n",
    "city.sort()\n",
    "\n",
    "print(city)"
   ]
  },
  {
   "cell_type": "markdown",
   "id": "3363d53e",
   "metadata": {
    "id": "3363d53e"
   },
   "source": [
    "### Indexing a List"
   ]
  },
  {
   "cell_type": "code",
   "execution_count": 193,
   "id": "14d51a66",
   "metadata": {
    "colab": {
     "base_uri": "https://localhost:8080/"
    },
    "executionInfo": {
     "elapsed": 91,
     "status": "ok",
     "timestamp": 1639915685343,
     "user": {
      "displayName": "Bünyamin Polat",
      "photoUrl": "https://lh3.googleusercontent.com/a/default-user=s64",
      "userId": "03982086590103784785"
     },
     "user_tz": -180
    },
    "id": "14d51a66",
    "outputId": "5d9b848f-ad8b-4c65-8b36-fe0bd3cc04df"
   },
   "outputs": [
    {
     "name": "stdout",
     "output_type": "stream",
     "text": [
      "blue\n"
     ]
    }
   ],
   "source": [
    "colors = ['red', 'purple', 'blue', 'yellow', 'green']\n",
    "\n",
    "print(colors[2])\n",
    "\n",
    "# Index always starts from zero"
   ]
  },
  {
   "cell_type": "code",
   "execution_count": 194,
   "id": "2dbd0395",
   "metadata": {
    "colab": {
     "base_uri": "https://localhost:8080/"
    },
    "executionInfo": {
     "elapsed": 91,
     "status": "ok",
     "timestamp": 1639915685344,
     "user": {
      "displayName": "Bünyamin Polat",
      "photoUrl": "https://lh3.googleusercontent.com/a/default-user=s64",
      "userId": "03982086590103784785"
     },
     "user_tz": -180
    },
    "id": "2dbd0395",
    "outputId": "2d213dfe-0f04-4981-98eb-497a68cf6b4b"
   },
   "outputs": [
    {
     "name": "stdout",
     "output_type": "stream",
     "text": [
      "[['New York', 'London', 'Istanbul', 'Seoul', 'Sydney']]\n"
     ]
    }
   ],
   "source": [
    "city = ['New York', 'London', 'Istanbul', 'Seoul', 'Sydney']\n",
    "\n",
    "city_list = []\n",
    "\n",
    "city_list.append(city)\n",
    "\n",
    "print(city_list)"
   ]
  },
  {
   "cell_type": "code",
   "execution_count": 195,
   "id": "ca42c323",
   "metadata": {
    "colab": {
     "base_uri": "https://localhost:8080/"
    },
    "executionInfo": {
     "elapsed": 90,
     "status": "ok",
     "timestamp": 1639915685345,
     "user": {
      "displayName": "Bünyamin Polat",
      "photoUrl": "https://lh3.googleusercontent.com/a/default-user=s64",
      "userId": "03982086590103784785"
     },
     "user_tz": -180
    },
    "id": "ca42c323",
    "outputId": "cce3bbd1-518f-47c7-fa52-04368fd26884"
   },
   "outputs": [
    {
     "data": {
      "text/plain": [
       "['New York', 'London', 'Istanbul', 'Seoul', 'Sydney']"
      ]
     },
     "execution_count": 195,
     "metadata": {},
     "output_type": "execute_result"
    }
   ],
   "source": [
    "city_list[0]"
   ]
  },
  {
   "cell_type": "code",
   "execution_count": 196,
   "id": "c561e2f4",
   "metadata": {
    "colab": {
     "base_uri": "https://localhost:8080/",
     "height": 0
    },
    "executionInfo": {
     "elapsed": 89,
     "status": "ok",
     "timestamp": 1639915685345,
     "user": {
      "displayName": "Bünyamin Polat",
      "photoUrl": "https://lh3.googleusercontent.com/a/default-user=s64",
      "userId": "03982086590103784785"
     },
     "user_tz": -180
    },
    "id": "c561e2f4",
    "outputId": "7821391e-c3d3-4dde-d461-ee80b08203d3"
   },
   "outputs": [
    {
     "data": {
      "text/plain": [
       "'Istanbul'"
      ]
     },
     "execution_count": 196,
     "metadata": {},
     "output_type": "execute_result"
    }
   ],
   "source": [
    "city_list = [['New York', 'London', 'Istanbul', 'Seoul', 'Sydney']]\n",
    "\n",
    "city_list[0][2]"
   ]
  },
  {
   "cell_type": "code",
   "execution_count": 197,
   "id": "03994256",
   "metadata": {
    "colab": {
     "base_uri": "https://localhost:8080/"
    },
    "executionInfo": {
     "elapsed": 89,
     "status": "ok",
     "timestamp": 1639915685346,
     "user": {
      "displayName": "Bünyamin Polat",
      "photoUrl": "https://lh3.googleusercontent.com/a/default-user=s64",
      "userId": "03982086590103784785"
     },
     "user_tz": -180
    },
    "id": "03994256",
    "outputId": "bc53b013-94d2-4ca1-87f1-aba415b0bb1b"
   },
   "outputs": [
    {
     "name": "stdout",
     "output_type": "stream",
     "text": [
      "Istanbul\n"
     ]
    }
   ],
   "source": [
    "print(city_list[0][2])"
   ]
  },
  {
   "cell_type": "code",
   "execution_count": 198,
   "id": "6dc8010b",
   "metadata": {
    "colab": {
     "base_uri": "https://localhost:8080/"
    },
    "executionInfo": {
     "elapsed": 87,
     "status": "ok",
     "timestamp": 1639915685346,
     "user": {
      "displayName": "Bünyamin Polat",
      "photoUrl": "https://lh3.googleusercontent.com/a/default-user=s64",
      "userId": "03982086590103784785"
     },
     "user_tz": -180
    },
    "id": "6dc8010b",
    "outputId": "2ff25679-e6c4-430d-85d9-7e769d908760"
   },
   "outputs": [
    {
     "name": "stdout",
     "output_type": "stream",
     "text": [
      "a\n"
     ]
    }
   ],
   "source": [
    "city_list = [['New York', 'London', 'Istanbul', 'Seoul', 'Sydney']]\n",
    "\n",
    "print(city_list[0][2][3])"
   ]
  },
  {
   "cell_type": "code",
   "execution_count": 199,
   "id": "a63dc7bf",
   "metadata": {
    "colab": {
     "base_uri": "https://localhost:8080/",
     "height": 0
    },
    "executionInfo": {
     "elapsed": 86,
     "status": "ok",
     "timestamp": 1639915685347,
     "user": {
      "displayName": "Bünyamin Polat",
      "photoUrl": "https://lh3.googleusercontent.com/a/default-user=s64",
      "userId": "03982086590103784785"
     },
     "user_tz": -180
    },
    "id": "a63dc7bf",
    "outputId": "ea037a4e-f882-49d4-e104-abde22e940c6"
   },
   "outputs": [
    {
     "data": {
      "text/plain": [
       "'a'"
      ]
     },
     "execution_count": 199,
     "metadata": {},
     "output_type": "execute_result"
    }
   ],
   "source": [
    "city_list[0][2][3]"
   ]
  },
  {
   "cell_type": "code",
   "execution_count": 200,
   "id": "b6073a37",
   "metadata": {
    "colab": {
     "base_uri": "https://localhost:8080/"
    },
    "executionInfo": {
     "elapsed": 85,
     "status": "ok",
     "timestamp": 1639915685347,
     "user": {
      "displayName": "Bünyamin Polat",
      "photoUrl": "https://lh3.googleusercontent.com/a/default-user=s64",
      "userId": "03982086590103784785"
     },
     "user_tz": -180
    },
    "id": "b6073a37",
    "outputId": "40a26c4e-583c-4227-90c7-005d2c301af4"
   },
   "outputs": [
    {
     "name": "stdout",
     "output_type": "stream",
     "text": [
      "l\n"
     ]
    }
   ],
   "source": [
    "fruits = ['apple', 'banana', 'watermelon', 'orange', 'mango', 'avocado']\n",
    "\n",
    "fruit_list = []\n",
    "\n",
    "fruit_list.insert(0, fruits)\n",
    "\n",
    "print(fruit_list[0][2][7])"
   ]
  },
  {
   "cell_type": "code",
   "execution_count": 201,
   "id": "b5bd2eff",
   "metadata": {
    "colab": {
     "base_uri": "https://localhost:8080/"
    },
    "executionInfo": {
     "elapsed": 84,
     "status": "ok",
     "timestamp": 1639915685348,
     "user": {
      "displayName": "Bünyamin Polat",
      "photoUrl": "https://lh3.googleusercontent.com/a/default-user=s64",
      "userId": "03982086590103784785"
     },
     "user_tz": -180
    },
    "id": "b5bd2eff",
    "outputId": "84a5ef12-602d-4923-a23b-acf612cddab0"
   },
   "outputs": [
    {
     "name": "stdout",
     "output_type": "stream",
     "text": [
      "1\n"
     ]
    }
   ],
   "source": [
    "print(len([[12, 34, 56]]))"
   ]
  },
  {
   "cell_type": "markdown",
   "id": "b086a4c0",
   "metadata": {
    "id": "b086a4c0"
   },
   "source": [
    "### Slicing a List"
   ]
  },
  {
   "cell_type": "code",
   "execution_count": 202,
   "id": "2a29b788",
   "metadata": {
    "colab": {
     "base_uri": "https://localhost:8080/"
    },
    "executionInfo": {
     "elapsed": 83,
     "status": "ok",
     "timestamp": 1639915685348,
     "user": {
      "displayName": "Bünyamin Polat",
      "photoUrl": "https://lh3.googleusercontent.com/a/default-user=s64",
      "userId": "03982086590103784785"
     },
     "user_tz": -180
    },
    "id": "2a29b788",
    "outputId": "5ed8b272-412a-4888-e3b6-19e7610819ec"
   },
   "outputs": [
    {
     "data": {
      "text/plain": [
       "[5, 7, 9]"
      ]
     },
     "execution_count": 202,
     "metadata": {},
     "output_type": "execute_result"
    }
   ],
   "source": [
    "numbers = [1, 3, 5, 7, 9, 11, 13, 15, 17]\n",
    "\n",
    "numbers[2:5]"
   ]
  },
  {
   "cell_type": "code",
   "execution_count": 203,
   "id": "54cfc525",
   "metadata": {
    "colab": {
     "base_uri": "https://localhost:8080/"
    },
    "executionInfo": {
     "elapsed": 83,
     "status": "ok",
     "timestamp": 1639915685349,
     "user": {
      "displayName": "Bünyamin Polat",
      "photoUrl": "https://lh3.googleusercontent.com/a/default-user=s64",
      "userId": "03982086590103784785"
     },
     "user_tz": -180
    },
    "id": "54cfc525",
    "outputId": "d3671d65-26be-4bdb-8425-b4fcd03f90cb"
   },
   "outputs": [
    {
     "name": "stdout",
     "output_type": "stream",
     "text": [
      "[5, 7, 9]\n"
     ]
    }
   ],
   "source": [
    "print(numbers[2:5])"
   ]
  },
  {
   "cell_type": "code",
   "execution_count": 204,
   "id": "a66aa83e",
   "metadata": {
    "colab": {
     "base_uri": "https://localhost:8080/"
    },
    "executionInfo": {
     "elapsed": 82,
     "status": "ok",
     "timestamp": 1639915685349,
     "user": {
      "displayName": "Bünyamin Polat",
      "photoUrl": "https://lh3.googleusercontent.com/a/default-user=s64",
      "userId": "03982086590103784785"
     },
     "user_tz": -180
    },
    "id": "a66aa83e",
    "outputId": "2b4e5684-38f3-4bf0-bc32-ea99f682d8b7"
   },
   "outputs": [
    {
     "name": "stdout",
     "output_type": "stream",
     "text": [
      "[0, 1, 2, 3, 4, 5, 6, 7, 8, 9, 10]\n",
      "\n",
      "[0, 2, 4, 6, 8, 10]\n"
     ]
    }
   ],
   "source": [
    "count = list(range(11)) # range function contains numbers from 0 to 10\n",
    "\n",
    "print(count)\n",
    "\n",
    "print()\n",
    "\n",
    "print(count[0:11:2])"
   ]
  },
  {
   "cell_type": "code",
   "execution_count": 205,
   "id": "1d217d25",
   "metadata": {
    "colab": {
     "base_uri": "https://localhost:8080/"
    },
    "executionInfo": {
     "elapsed": 83,
     "status": "ok",
     "timestamp": 1639915685350,
     "user": {
      "displayName": "Bünyamin Polat",
      "photoUrl": "https://lh3.googleusercontent.com/a/default-user=s64",
      "userId": "03982086590103784785"
     },
     "user_tz": -180
    },
    "id": "1d217d25",
    "outputId": "bfbcd4cf-d339-42ed-8655-b870b3bbbb8e"
   },
   "outputs": [
    {
     "name": "stdout",
     "output_type": "stream",
     "text": [
      "['elephant', 'bear', 'fox', 'wolf', 'rabbit', 'deer', 'giraffe']\n"
     ]
    }
   ],
   "source": [
    "animals = ['elephant', 'bear', 'fox', 'wolf', 'rabbit', 'deer', 'giraffe']\n",
    "\n",
    "print(animals[:])"
   ]
  },
  {
   "cell_type": "code",
   "execution_count": 206,
   "id": "bc26b779",
   "metadata": {
    "colab": {
     "base_uri": "https://localhost:8080/"
    },
    "executionInfo": {
     "elapsed": 83,
     "status": "ok",
     "timestamp": 1639915685351,
     "user": {
      "displayName": "Bünyamin Polat",
      "photoUrl": "https://lh3.googleusercontent.com/a/default-user=s64",
      "userId": "03982086590103784785"
     },
     "user_tz": -180
    },
    "id": "bc26b779",
    "outputId": "f057c9ac-2518-499a-e1ec-940934f05e02"
   },
   "outputs": [
    {
     "name": "stdout",
     "output_type": "stream",
     "text": [
      "['wolf', 'rabbit', 'deer', 'giraffe']\n"
     ]
    }
   ],
   "source": [
    "animals = ['elephant', 'bear', 'fox', 'wolf', 'rabbit', 'deer', 'giraffe']\n",
    "\n",
    "print(animals[3:])"
   ]
  },
  {
   "cell_type": "code",
   "execution_count": 207,
   "id": "5511c7b9",
   "metadata": {
    "colab": {
     "base_uri": "https://localhost:8080/"
    },
    "executionInfo": {
     "elapsed": 1103,
     "status": "ok",
     "timestamp": 1639915686372,
     "user": {
      "displayName": "Bünyamin Polat",
      "photoUrl": "https://lh3.googleusercontent.com/a/default-user=s64",
      "userId": "03982086590103784785"
     },
     "user_tz": -180
    },
    "id": "5511c7b9",
    "outputId": "23f1f5d5-f09a-4455-8f90-58d8f5b2148d"
   },
   "outputs": [
    {
     "data": {
      "text/plain": [
       "['elephant', 'bear', 'fox', 'wolf', 'rabbit']"
      ]
     },
     "execution_count": 207,
     "metadata": {},
     "output_type": "execute_result"
    }
   ],
   "source": [
    "animals = ['elephant', 'bear', 'fox', 'wolf', 'rabbit', 'deer', 'giraffe']\n",
    "\n",
    "animals[:5]"
   ]
  },
  {
   "cell_type": "code",
   "execution_count": 208,
   "id": "f1a9b5dd",
   "metadata": {
    "colab": {
     "base_uri": "https://localhost:8080/"
    },
    "executionInfo": {
     "elapsed": 95,
     "status": "ok",
     "timestamp": 1639915686374,
     "user": {
      "displayName": "Bünyamin Polat",
      "photoUrl": "https://lh3.googleusercontent.com/a/default-user=s64",
      "userId": "03982086590103784785"
     },
     "user_tz": -180
    },
    "id": "f1a9b5dd",
    "outputId": "d42014e0-08df-4d86-cdd2-a2543b5f8225"
   },
   "outputs": [
    {
     "name": "stdout",
     "output_type": "stream",
     "text": [
      "['elephant', 'fox', 'rabbit', 'giraffe']\n"
     ]
    }
   ],
   "source": [
    "animals = ['elephant', 'bear', 'fox', 'wolf', 'rabbit', 'deer', 'giraffe']\n",
    "\n",
    "print(animals[::2])"
   ]
  },
  {
   "cell_type": "markdown",
   "id": "ceeb1cde",
   "metadata": {
    "id": "ceeb1cde"
   },
   "source": [
    "### Negative indexing"
   ]
  },
  {
   "cell_type": "markdown",
   "id": "130c059d",
   "metadata": {
    "id": "130c059d"
   },
   "source": [
    "![](https://drive.google.com/uc?id=1xSWjx0RlfSVSep_FNClSi15UXzYwJ2vh)"
   ]
  },
  {
   "cell_type": "code",
   "execution_count": 209,
   "id": "83ae899a",
   "metadata": {
    "colab": {
     "base_uri": "https://localhost:8080/",
     "height": 0
    },
    "executionInfo": {
     "elapsed": 92,
     "status": "ok",
     "timestamp": 1639915686375,
     "user": {
      "displayName": "Bünyamin Polat",
      "photoUrl": "https://lh3.googleusercontent.com/a/default-user=s64",
      "userId": "03982086590103784785"
     },
     "user_tz": -180
    },
    "id": "83ae899a",
    "outputId": "13472c26-70ba-4aa8-def7-cc746a0e1d3c"
   },
   "outputs": [
    {
     "data": {
      "text/plain": [
       "'London'"
      ]
     },
     "execution_count": 209,
     "metadata": {},
     "output_type": "execute_result"
    }
   ],
   "source": [
    "city = ['New York', 'London', 'Istanbul', 'Seoul', 'Sydney']\n",
    "\n",
    "city[-4]"
   ]
  },
  {
   "cell_type": "code",
   "execution_count": 210,
   "id": "90c19c69",
   "metadata": {
    "colab": {
     "base_uri": "https://localhost:8080/"
    },
    "executionInfo": {
     "elapsed": 92,
     "status": "ok",
     "timestamp": 1639915686378,
     "user": {
      "displayName": "Bünyamin Polat",
      "photoUrl": "https://lh3.googleusercontent.com/a/default-user=s64",
      "userId": "03982086590103784785"
     },
     "user_tz": -180
    },
    "id": "90c19c69",
    "outputId": "6c783386-9584-4d6d-97ed-191238dbe2c4"
   },
   "outputs": [
    {
     "name": "stdout",
     "output_type": "stream",
     "text": [
      "['portakal', 'kivi', 'ayva']\n"
     ]
    }
   ],
   "source": [
    "meyve = ['elma', 'armut', 'kiraz', 'muz', 'portakal', 'kivi', 'ayva']\n",
    "\n",
    "print(meyve[-3:])"
   ]
  },
  {
   "cell_type": "code",
   "execution_count": 211,
   "id": "ll3IKOLgZoqr",
   "metadata": {
    "colab": {
     "base_uri": "https://localhost:8080/"
    },
    "executionInfo": {
     "elapsed": 92,
     "status": "ok",
     "timestamp": 1639915686380,
     "user": {
      "displayName": "Bünyamin Polat",
      "photoUrl": "https://lh3.googleusercontent.com/a/default-user=s64",
      "userId": "03982086590103784785"
     },
     "user_tz": -180
    },
    "id": "ll3IKOLgZoqr",
    "outputId": "7c5607f5-42f0-4dbe-f0f3-cc3b3db41659"
   },
   "outputs": [
    {
     "data": {
      "text/plain": [
       "['portakal', 'kivi', 'ayva']"
      ]
     },
     "execution_count": 211,
     "metadata": {},
     "output_type": "execute_result"
    }
   ],
   "source": [
    "meyve[4:]"
   ]
  },
  {
   "cell_type": "code",
   "execution_count": 212,
   "id": "a65d14b0",
   "metadata": {
    "colab": {
     "base_uri": "https://localhost:8080/"
    },
    "executionInfo": {
     "elapsed": 92,
     "status": "ok",
     "timestamp": 1639915686382,
     "user": {
      "displayName": "Bünyamin Polat",
      "photoUrl": "https://lh3.googleusercontent.com/a/default-user=s64",
      "userId": "03982086590103784785"
     },
     "user_tz": -180
    },
    "id": "a65d14b0",
    "outputId": "23fbbbeb-5369-42b4-89b0-f8c82fe45237"
   },
   "outputs": [
    {
     "name": "stdout",
     "output_type": "stream",
     "text": [
      "['elma', 'armut', 'kiraz', 'muz']\n"
     ]
    }
   ],
   "source": [
    "meyve = ['elma', 'armut', 'kiraz', 'muz', 'portakal', 'kivi', 'ayva']\n",
    "\n",
    "print(meyve[:-3])"
   ]
  },
  {
   "cell_type": "code",
   "execution_count": 213,
   "id": "169ae376",
   "metadata": {
    "colab": {
     "base_uri": "https://localhost:8080/"
    },
    "executionInfo": {
     "elapsed": 92,
     "status": "ok",
     "timestamp": 1639915686384,
     "user": {
      "displayName": "Bünyamin Polat",
      "photoUrl": "https://lh3.googleusercontent.com/a/default-user=s64",
      "userId": "03982086590103784785"
     },
     "user_tz": -180
    },
    "id": "169ae376",
    "outputId": "79428e86-0484-4cd9-fa26-7226f5bf1f24"
   },
   "outputs": [
    {
     "data": {
      "text/plain": [
       "['ayva', 'kivi', 'portakal', 'muz', 'kiraz', 'armut', 'elma']"
      ]
     },
     "execution_count": 213,
     "metadata": {},
     "output_type": "execute_result"
    }
   ],
   "source": [
    "meyve = ['elma', 'armut', 'kiraz', 'muz', 'portakal', 'kivi', 'ayva']\n",
    "\n",
    "meyve[::-1]"
   ]
  },
  {
   "cell_type": "code",
   "execution_count": 214,
   "id": "90ade69c",
   "metadata": {
    "colab": {
     "base_uri": "https://localhost:8080/"
    },
    "executionInfo": {
     "elapsed": 90,
     "status": "ok",
     "timestamp": 1639915686385,
     "user": {
      "displayName": "Bünyamin Polat",
      "photoUrl": "https://lh3.googleusercontent.com/a/default-user=s64",
      "userId": "03982086590103784785"
     },
     "user_tz": -180
    },
    "id": "90ade69c",
    "outputId": "af376dbe-0ad7-4215-c268-7306651ed201"
   },
   "outputs": [
    {
     "data": {
      "text/plain": [
       "['ayva', 'kivi', 'portakal', 'muz', 'kiraz', 'armut', 'elma']"
      ]
     },
     "execution_count": 214,
     "metadata": {},
     "output_type": "execute_result"
    }
   ],
   "source": [
    "meyve[::-1]"
   ]
  },
  {
   "cell_type": "markdown",
   "id": "c51a0a09",
   "metadata": {
    "id": "c51a0a09"
   },
   "source": [
    "**If you choose negative step with start and end indexes, the ending index must be less than the start index.**"
   ]
  },
  {
   "cell_type": "code",
   "execution_count": 215,
   "id": "900b0cf4",
   "metadata": {
    "colab": {
     "base_uri": "https://localhost:8080/"
    },
    "executionInfo": {
     "elapsed": 89,
     "status": "ok",
     "timestamp": 1639915686386,
     "user": {
      "displayName": "Bünyamin Polat",
      "photoUrl": "https://lh3.googleusercontent.com/a/default-user=s64",
      "userId": "03982086590103784785"
     },
     "user_tz": -180
    },
    "id": "900b0cf4",
    "outputId": "fa891cd9-df09-40ad-aee1-c6d0faaab153"
   },
   "outputs": [
    {
     "name": "stdout",
     "output_type": "stream",
     "text": [
      "[8, 7, 6, 5]\n",
      "[]\n"
     ]
    }
   ],
   "source": [
    "num = [1, 2, 3, 4, 5, 6, 7, 8, 9, 10]\n",
    "\n",
    "print(num[7:3:-1])\n",
    "\n",
    "print(num[2:6:-1])"
   ]
  },
  {
   "cell_type": "markdown",
   "id": "8f3cdab8",
   "metadata": {
    "id": "8f3cdab8"
   },
   "source": [
    "## Tuples\n",
    "\n",
    "- Tuple is another type of collection that can hold multiple data like list\n",
    "\n",
    "- The most important difference from list is that tuple is immutable. Therefore, there are no methods like append() or remove() in such operations.\n",
    "\n",
    "- We used square brackets 👉🏻'[ ]' to define the lists. Normal parentheses 👉🏻'()' are used in tuple.\n",
    "\n",
    "- Tuples are commonly used for small collections of values that won't need to change, such as IP address and port.\n",
    "\n",
    "- If we have unchanged data we should choose tuples as they are much faster than lists."
   ]
  },
  {
   "cell_type": "code",
   "execution_count": 216,
   "id": "f0e84b11",
   "metadata": {
    "colab": {
     "base_uri": "https://localhost:8080/"
    },
    "executionInfo": {
     "elapsed": 88,
     "status": "ok",
     "timestamp": 1639915686387,
     "user": {
      "displayName": "Bünyamin Polat",
      "photoUrl": "https://lh3.googleusercontent.com/a/default-user=s64",
      "userId": "03982086590103784785"
     },
     "user_tz": -180
    },
    "id": "f0e84b11",
    "outputId": "9656c25f-1edc-4e2b-aa2e-57b18b3127af"
   },
   "outputs": [
    {
     "name": "stdout",
     "output_type": "stream",
     "text": [
      "<class 'tuple'>\n"
     ]
    }
   ],
   "source": [
    "empty_tuple = ()\n",
    "\n",
    "print(type(empty_tuple))"
   ]
  },
  {
   "cell_type": "code",
   "execution_count": 217,
   "id": "15f32214",
   "metadata": {
    "colab": {
     "base_uri": "https://localhost:8080/"
    },
    "executionInfo": {
     "elapsed": 86,
     "status": "ok",
     "timestamp": 1639915686387,
     "user": {
      "displayName": "Bünyamin Polat",
      "photoUrl": "https://lh3.googleusercontent.com/a/default-user=s64",
      "userId": "03982086590103784785"
     },
     "user_tz": -180
    },
    "id": "15f32214",
    "outputId": "89b9d21c-b2b0-4249-84b5-f2a345fce31f"
   },
   "outputs": [
    {
     "name": "stdout",
     "output_type": "stream",
     "text": [
      "love\n",
      "<class 'str'>\n"
     ]
    }
   ],
   "source": [
    "try_tuple = ('love')\n",
    "\n",
    "print(try_tuple)\n",
    "\n",
    "print(type(try_tuple))"
   ]
  },
  {
   "cell_type": "code",
   "execution_count": 218,
   "id": "8b4c1fd9",
   "metadata": {
    "colab": {
     "base_uri": "https://localhost:8080/"
    },
    "executionInfo": {
     "elapsed": 85,
     "status": "ok",
     "timestamp": 1639915686388,
     "user": {
      "displayName": "Bünyamin Polat",
      "photoUrl": "https://lh3.googleusercontent.com/a/default-user=s64",
      "userId": "03982086590103784785"
     },
     "user_tz": -180
    },
    "id": "8b4c1fd9",
    "outputId": "2245f905-9491-42e5-e3c0-dded74c15d97"
   },
   "outputs": [
    {
     "name": "stdout",
     "output_type": "stream",
     "text": [
      "('love',)\n",
      "<class 'tuple'>\n"
     ]
    }
   ],
   "source": [
    "try_tuple = ('love',)\n",
    "\n",
    "print(try_tuple)\n",
    "\n",
    "print(type(try_tuple))"
   ]
  },
  {
   "cell_type": "code",
   "execution_count": 219,
   "id": "7add902a",
   "metadata": {
    "colab": {
     "base_uri": "https://localhost:8080/"
    },
    "executionInfo": {
     "elapsed": 83,
     "status": "ok",
     "timestamp": 1639915686388,
     "user": {
      "displayName": "Bünyamin Polat",
      "photoUrl": "https://lh3.googleusercontent.com/a/default-user=s64",
      "userId": "03982086590103784785"
     },
     "user_tz": -180
    },
    "id": "7add902a",
    "outputId": "16cd6cc1-f0ff-4d8d-dae8-5598408748c4"
   },
   "outputs": [
    {
     "name": "stdout",
     "output_type": "stream",
     "text": [
      "<class 'list'> [1, 4, 3, 4, 5, 6, 7, 4]\n"
     ]
    }
   ],
   "source": [
    "my_tuple=(1, 4, 3, 4, 5, 6, 7, 4)\n",
    "\n",
    "my_list = list(my_tuple)\n",
    "\n",
    "print(type(my_list), my_list)"
   ]
  },
  {
   "cell_type": "code",
   "execution_count": 220,
   "id": "19dc2437",
   "metadata": {
    "colab": {
     "base_uri": "https://localhost:8080/"
    },
    "executionInfo": {
     "elapsed": 80,
     "status": "ok",
     "timestamp": 1639915686388,
     "user": {
      "displayName": "Bünyamin Polat",
      "photoUrl": "https://lh3.googleusercontent.com/a/default-user=s64",
      "userId": "03982086590103784785"
     },
     "user_tz": -180
    },
    "id": "19dc2437",
    "outputId": "de43fd6e-53e8-429f-c3c4-81ba56879e51"
   },
   "outputs": [
    {
     "name": "stdout",
     "output_type": "stream",
     "text": [
      "<class 'tuple'> (1, 4, 3, 4, 5, 6, 7, 4)\n"
     ]
    }
   ],
   "source": [
    "my_list = [1, 4, 3, 4, 5, 6, 7, 4]\n",
    "\n",
    "my_tuple = tuple(my_list)\n",
    "\n",
    "print(type(my_tuple), my_tuple)"
   ]
  },
  {
   "cell_type": "code",
   "execution_count": 221,
   "id": "2ab84862",
   "metadata": {
    "colab": {
     "base_uri": "https://localhost:8080/"
    },
    "executionInfo": {
     "elapsed": 77,
     "status": "ok",
     "timestamp": 1639915686389,
     "user": {
      "displayName": "Bünyamin Polat",
      "photoUrl": "https://lh3.googleusercontent.com/a/default-user=s64",
      "userId": "03982086590103784785"
     },
     "user_tz": -180
    },
    "id": "2ab84862",
    "outputId": "cf93b11e-f909-4eaf-9e78-47c8ec937d10"
   },
   "outputs": [
    {
     "name": "stdout",
     "output_type": "stream",
     "text": [
      "('A', 'l', 'p', 's')\n"
     ]
    }
   ],
   "source": [
    "mountain = tuple('Alps',)\n",
    "\n",
    "print(mountain) "
   ]
  },
  {
   "cell_type": "code",
   "execution_count": 222,
   "id": "219482ae",
   "metadata": {
    "colab": {
     "base_uri": "https://localhost:8080/"
    },
    "executionInfo": {
     "elapsed": 75,
     "status": "ok",
     "timestamp": 1639915686389,
     "user": {
      "displayName": "Bünyamin Polat",
      "photoUrl": "https://lh3.googleusercontent.com/a/default-user=s64",
      "userId": "03982086590103784785"
     },
     "user_tz": -180
    },
    "id": "219482ae",
    "outputId": "9ba3f5fa-0633-4349-90b2-77198cec0390"
   },
   "outputs": [
    {
     "name": "stdout",
     "output_type": "stream",
     "text": [
      "['Athens', 'Cairo', 'Moskow', 'Dublin']\n"
     ]
    }
   ],
   "source": [
    "city_list = ['Tokyo', 'Istanbul', 'Moskow', 'Dublin']\n",
    "\n",
    "city_list[0] = 'Athens'\n",
    "\n",
    "city_list[1] = 'Cairo'\n",
    "print(city_list)"
   ]
  },
  {
   "cell_type": "code",
   "execution_count": 223,
   "id": "591b6a88",
   "metadata": {
    "colab": {
     "base_uri": "https://localhost:8080/",
     "height": 208
    },
    "executionInfo": {
     "elapsed": 126,
     "status": "error",
     "timestamp": 1639915686441,
     "user": {
      "displayName": "Bünyamin Polat",
      "photoUrl": "https://lh3.googleusercontent.com/a/default-user=s64",
      "userId": "03982086590103784785"
     },
     "user_tz": -180
    },
    "id": "591b6a88",
    "outputId": "4af2341a-d70e-42f7-a559-300c829106ae"
   },
   "outputs": [
    {
     "ename": "TypeError",
     "evalue": "'tuple' object does not support item assignment",
     "output_type": "error",
     "traceback": [
      "\u001b[1;31m---------------------------------------------------------------------------\u001b[0m",
      "\u001b[1;31mTypeError\u001b[0m                                 Traceback (most recent call last)",
      "\u001b[1;32m~\\AppData\\Local\\Temp/ipykernel_3232/4220510189.py\u001b[0m in \u001b[0;36m<module>\u001b[1;34m\u001b[0m\n\u001b[0;32m      3\u001b[0m \u001b[0mcity_tuple\u001b[0m \u001b[1;33m=\u001b[0m \u001b[0mtuple\u001b[0m\u001b[1;33m(\u001b[0m\u001b[0mcity_list\u001b[0m\u001b[1;33m)\u001b[0m\u001b[1;33m\u001b[0m\u001b[1;33m\u001b[0m\u001b[0m\n\u001b[0;32m      4\u001b[0m \u001b[1;33m\u001b[0m\u001b[0m\n\u001b[1;32m----> 5\u001b[1;33m \u001b[0mcity_tuple\u001b[0m\u001b[1;33m[\u001b[0m\u001b[1;36m0\u001b[0m\u001b[1;33m]\u001b[0m \u001b[1;33m=\u001b[0m \u001b[1;34m'New York'\u001b[0m \u001b[1;31m# Tuple does not support new item assignment\u001b[0m\u001b[1;33m\u001b[0m\u001b[1;33m\u001b[0m\u001b[0m\n\u001b[0m",
      "\u001b[1;31mTypeError\u001b[0m: 'tuple' object does not support item assignment"
     ]
    }
   ],
   "source": [
    "city_list = ['Tokyo', 'Istanbul', 'Moskow', 'Dublin']\n",
    "\n",
    "city_tuple = tuple(city_list)\n",
    "\n",
    "city_tuple[0] = 'New York' # Tuple does not support new item assignment"
   ]
  },
  {
   "cell_type": "code",
   "execution_count": 224,
   "id": "30ed6036",
   "metadata": {
    "colab": {
     "base_uri": "https://localhost:8080/"
    },
    "executionInfo": {
     "elapsed": 359,
     "status": "ok",
     "timestamp": 1639915708424,
     "user": {
      "displayName": "Bünyamin Polat",
      "photoUrl": "https://lh3.googleusercontent.com/a/default-user=s64",
      "userId": "03982086590103784785"
     },
     "user_tz": -180
    },
    "id": "30ed6036",
    "outputId": "36c85e10-73d4-419a-9e2e-cd606b267f18"
   },
   "outputs": [
    {
     "name": "stdout",
     "output_type": "stream",
     "text": [
      "The index of e: 1\n",
      "The index of i: 2\n"
     ]
    }
   ],
   "source": [
    "# vowels tuple\n",
    "vowels = ('a', 'e', 'i', 'o', 'i', 'u')\n",
    "\n",
    "# index of 'e' in vowels\n",
    "index = vowels.index('e')\n",
    "\n",
    "print('The index of e:', index)\n",
    "\n",
    "\n",
    "index = vowels.index('i')\n",
    "\n",
    "print('The index of i:', index)"
   ]
  },
  {
   "cell_type": "code",
   "execution_count": 225,
   "id": "24c0de01",
   "metadata": {
    "colab": {
     "base_uri": "https://localhost:8080/"
    },
    "executionInfo": {
     "elapsed": 43,
     "status": "ok",
     "timestamp": 1639915709183,
     "user": {
      "displayName": "Bünyamin Polat",
      "photoUrl": "https://lh3.googleusercontent.com/a/default-user=s64",
      "userId": "03982086590103784785"
     },
     "user_tz": -180
    },
    "id": "24c0de01",
    "outputId": "387292c2-3c70-4c1d-a846-c07718cc3c4a"
   },
   "outputs": [
    {
     "data": {
      "text/plain": [
       "('o', 'i', 'u')"
      ]
     },
     "execution_count": 225,
     "metadata": {},
     "output_type": "execute_result"
    }
   ],
   "source": [
    "vowels[3:]"
   ]
  },
  {
   "cell_type": "code",
   "execution_count": 226,
   "id": "9cd094cf",
   "metadata": {
    "colab": {
     "base_uri": "https://localhost:8080/"
    },
    "executionInfo": {
     "elapsed": 41,
     "status": "ok",
     "timestamp": 1639915709183,
     "user": {
      "displayName": "Bünyamin Polat",
      "photoUrl": "https://lh3.googleusercontent.com/a/default-user=s64",
      "userId": "03982086590103784785"
     },
     "user_tz": -180
    },
    "id": "9cd094cf",
    "outputId": "10fb0932-891e-48c7-883a-cc879ea3ac0a"
   },
   "outputs": [
    {
     "name": "stdout",
     "output_type": "stream",
     "text": [
      "The count of i is: 2\n",
      "The count of p is: 0\n"
     ]
    }
   ],
   "source": [
    "# vowels tuple\n",
    "vowels = ('a', 'e', 'i', 'o', 'i', 'u')\n",
    "\n",
    "# count element 'i'\n",
    "count = vowels.count('i')\n",
    "\n",
    "# print count\n",
    "print('The count of i is:', count)\n",
    "\n",
    "# count element 'p'\n",
    "count = vowels.count('p')\n",
    "\n",
    "# print count\n",
    "print('The count of p is:', count)\n"
   ]
  },
  {
   "cell_type": "markdown",
   "id": "451ea818",
   "metadata": {
    "id": "451ea818"
   },
   "source": [
    "## Dictionaries\n",
    "- Think of a real dictionary.\n",
    "- Contains words and their meanings.\n",
    "- In Python, you can treat words as keywords and their meanings as values.\n",
    "- The dictionary is surrounded by curly brackets 👉🏻{}.\n"
   ]
  },
  {
   "cell_type": "code",
   "execution_count": 227,
   "id": "403efc5a",
   "metadata": {
    "colab": {
     "base_uri": "https://localhost:8080/"
    },
    "executionInfo": {
     "elapsed": 37,
     "status": "ok",
     "timestamp": 1639915709184,
     "user": {
      "displayName": "Bünyamin Polat",
      "photoUrl": "https://lh3.googleusercontent.com/a/default-user=s64",
      "userId": "03982086590103784785"
     },
     "user_tz": -180
    },
    "id": "403efc5a",
    "outputId": "8473e7b4-16fd-4a74-f164-a68cf17ebdc1"
   },
   "outputs": [
    {
     "name": "stdout",
     "output_type": "stream",
     "text": [
      "<class 'dict'>\n",
      "<class 'dict'>\n"
     ]
    }
   ],
   "source": [
    "empty_dict_1 = {}\n",
    "empty_dict_2 = dict()\n",
    "\n",
    "print(type(empty_dict_1))\n",
    "print(type(empty_dict_2))"
   ]
  },
  {
   "cell_type": "code",
   "execution_count": 228,
   "id": "03390137",
   "metadata": {
    "colab": {
     "base_uri": "https://localhost:8080/"
    },
    "executionInfo": {
     "elapsed": 33,
     "status": "ok",
     "timestamp": 1639915709184,
     "user": {
      "displayName": "Bünyamin Polat",
      "photoUrl": "https://lh3.googleusercontent.com/a/default-user=s64",
      "userId": "03982086590103784785"
     },
     "user_tz": -180
    },
    "id": "03390137",
    "outputId": "3caf08b5-b189-425b-f608-c869c3152642"
   },
   "outputs": [
    {
     "name": "stdout",
     "output_type": "stream",
     "text": [
      "İstanbul\n"
     ]
    }
   ],
   "source": [
    "capitals = {'Türkiye': 'İstanbul',\n",
    "            'Rusya': 'Moskova',\n",
    "            'ABD': 'Wsahington',\n",
    "            'Mısır': 'Kahire'}\n",
    "\n",
    "print(capitals['Türkiye'])"
   ]
  },
  {
   "cell_type": "code",
   "execution_count": 229,
   "id": "2dafd68a",
   "metadata": {
    "colab": {
     "base_uri": "https://localhost:8080/"
    },
    "executionInfo": {
     "elapsed": 32,
     "status": "ok",
     "timestamp": 1639915709185,
     "user": {
      "displayName": "Bünyamin Polat",
      "photoUrl": "https://lh3.googleusercontent.com/a/default-user=s64",
      "userId": "03982086590103784785"
     },
     "user_tz": -180
    },
    "id": "2dafd68a",
    "outputId": "16f9038b-f289-4d37-b506-fb3fb6d6ad22"
   },
   "outputs": [
    {
     "name": "stdout",
     "output_type": "stream",
     "text": [
      "Atina\n"
     ]
    }
   ],
   "source": [
    "capitals = {'Türkiye': 'İstanbul',\n",
    "            'Rusya': 'Moskova',\n",
    "            'ABD': 'Wsahington',\n",
    "            'Mısır': 'Kahire'}\n",
    "capitals[\"Yunanistan\"] = \"Atina\"\n",
    "\n",
    "print(capitals['Yunanistan'])"
   ]
  },
  {
   "cell_type": "code",
   "execution_count": 230,
   "id": "c5471e06",
   "metadata": {
    "colab": {
     "base_uri": "https://localhost:8080/"
    },
    "executionInfo": {
     "elapsed": 31,
     "status": "ok",
     "timestamp": 1639915709185,
     "user": {
      "displayName": "Bünyamin Polat",
      "photoUrl": "https://lh3.googleusercontent.com/a/default-user=s64",
      "userId": "03982086590103784785"
     },
     "user_tz": -180
    },
    "id": "c5471e06",
    "outputId": "c73e2c5c-1f3d-4c48-a7b1-eae85e97cfff"
   },
   "outputs": [
    {
     "name": "stdout",
     "output_type": "stream",
     "text": [
      "{'Türkiye': 'İstanbul', 'Rusya': 'Moskova', 'ABD': 'Wsahington', 'Mısır': 'Kahire', 'Yunanistan': 'Atina'}\n"
     ]
    }
   ],
   "source": [
    "print(capitals)"
   ]
  },
  {
   "cell_type": "code",
   "execution_count": 231,
   "id": "1a303c52",
   "metadata": {
    "executionInfo": {
     "elapsed": 30,
     "status": "ok",
     "timestamp": 1639915709186,
     "user": {
      "displayName": "Bünyamin Polat",
      "photoUrl": "https://lh3.googleusercontent.com/a/default-user=s64",
      "userId": "03982086590103784785"
     },
     "user_tz": -180
    },
    "id": "1a303c52"
   },
   "outputs": [],
   "source": [
    "# Keys and values can be different types of data.\n",
    "mix_values = {'animal': ('dog', 'cat'),  # tuple type\n",
    "              'planet': ['Neptun', 'Saturn', 'Jupiter'],  # list type\n",
    "              'number': 40,  # int type\n",
    "              'pi': 3.14,  # float type\n",
    "              'is_good': True}  # bool type\n",
    "\n",
    "mix_keys = {22 : \"integer\",\n",
    "            1.2 : \"float\",\n",
    "            True : \"boolean\",\n",
    "            \"key\" : \"string\"}"
   ]
  },
  {
   "cell_type": "code",
   "execution_count": 232,
   "id": "4696fcec",
   "metadata": {
    "colab": {
     "base_uri": "https://localhost:8080/"
    },
    "executionInfo": {
     "elapsed": 31,
     "status": "ok",
     "timestamp": 1639915709187,
     "user": {
      "displayName": "Bünyamin Polat",
      "photoUrl": "https://lh3.googleusercontent.com/a/default-user=s64",
      "userId": "03982086590103784785"
     },
     "user_tz": -180
    },
    "id": "4696fcec",
    "outputId": "b3a47a97-c1d7-44b0-c0d1-46e2806f5dd9"
   },
   "outputs": [
    {
     "name": "stdout",
     "output_type": "stream",
     "text": [
      "{'animal': 'dog', 'planet': 'neptun', 'number': 40, 'pi': 3.14, 'is_good': True}\n"
     ]
    }
   ],
   "source": [
    "dict_by_dict = dict(animal='dog', planet='neptun', number=40, pi=3.14, is_good=True)\n",
    "\n",
    "print(dict_by_dict)"
   ]
  },
  {
   "cell_type": "markdown",
   "id": "7e4a682f",
   "metadata": {
    "id": "7e4a682f"
   },
   "source": [
    "**There are several methods that allow us to access items, keys and values:**\n",
    "\n",
    "\n",
    "- Using the **.items()** method on all items,\n",
    "\n",
    "- using the **.keys()** method to all keys,\n",
    "\n",
    "- you can access all values using the **.values()** method"
   ]
  },
  {
   "cell_type": "code",
   "execution_count": 233,
   "id": "dc3d69a1",
   "metadata": {
    "colab": {
     "base_uri": "https://localhost:8080/"
    },
    "executionInfo": {
     "elapsed": 29,
     "status": "ok",
     "timestamp": 1639915709187,
     "user": {
      "displayName": "Bünyamin Polat",
      "photoUrl": "https://lh3.googleusercontent.com/a/default-user=s64",
      "userId": "03982086590103784785"
     },
     "user_tz": -180
    },
    "id": "dc3d69a1",
    "outputId": "bf742965-d456-4cb3-9c26-9bb8ca92150f"
   },
   "outputs": [
    {
     "name": "stdout",
     "output_type": "stream",
     "text": [
      "dict_items([('animal', 'dog'), ('planet', 'neptun'), ('number', 40), ('pi', 3.14), ('is_good', True)]) \n",
      "\n",
      "dict_keys(['animal', 'planet', 'number', 'pi', 'is_good']) \n",
      "\n",
      "dict_values(['dog', 'neptun', 40, 3.14, True])\n"
     ]
    }
   ],
   "source": [
    "dict_by = {'animal': 'dog', 'planet': 'neptun',\n",
    "           'number': 40, 'pi': 3.14, 'is_good': True}\n",
    "\n",
    "print(dict_by.items(), '\\n')\n",
    "print(dict_by.keys(), '\\n')\n",
    "print(dict_by.values())"
   ]
  },
  {
   "cell_type": "markdown",
   "id": "790eff97",
   "metadata": {
    "id": "790eff97"
   },
   "source": [
    "- New items are added using the **.update()** method"
   ]
  },
  {
   "cell_type": "code",
   "execution_count": 234,
   "id": "95975503",
   "metadata": {
    "colab": {
     "base_uri": "https://localhost:8080/"
    },
    "executionInfo": {
     "elapsed": 28,
     "status": "ok",
     "timestamp": 1639915709187,
     "user": {
      "displayName": "Bünyamin Polat",
      "photoUrl": "https://lh3.googleusercontent.com/a/default-user=s64",
      "userId": "03982086590103784785"
     },
     "user_tz": -180
    },
    "id": "95975503",
    "outputId": "049bcff2-0ebe-471c-a8b3-062dab52154d"
   },
   "outputs": [
    {
     "name": "stdout",
     "output_type": "stream",
     "text": [
      "{'animal': 'dog', 'planet': 'neptun', 'number': 40, 'pi': 3.14, 'is_good': True, 'is_bad': False}\n"
     ]
    }
   ],
   "source": [
    "dict_by_dict = {'animal': 'dog',\n",
    "                'planet': 'neptun',\n",
    "                'number': 40,\n",
    "                'pi': 3.14,\n",
    "                'is_good': True}\n",
    "\n",
    "dict_by_dict.update({'is_bad': False})\n",
    "\n",
    "print(dict_by_dict)"
   ]
  },
  {
   "cell_type": "markdown",
   "id": "9Ef77Z98uIaK",
   "metadata": {
    "id": "9Ef77Z98uIaK"
   },
   "source": [
    "- Delete using **del()**, **pop()**, **popitem()** methods"
   ]
  },
  {
   "cell_type": "code",
   "execution_count": 235,
   "id": "49acf391",
   "metadata": {
    "colab": {
     "base_uri": "https://localhost:8080/"
    },
    "executionInfo": {
     "elapsed": 342,
     "status": "ok",
     "timestamp": 1639917969437,
     "user": {
      "displayName": "Bünyamin Polat",
      "photoUrl": "https://lh3.googleusercontent.com/a/default-user=s64",
      "userId": "03982086590103784785"
     },
     "user_tz": -180
    },
    "id": "49acf391",
    "outputId": "c1a2122e-aa14-40ba-c96f-dc75b7b4c4ce"
   },
   "outputs": [
    {
     "name": "stdout",
     "output_type": "stream",
     "text": [
      "{'animal': 'dog', 'planet': 'neptun', 'number': 40, 'is_good': True}\n"
     ]
    }
   ],
   "source": [
    "dict_by_dict = {'animal': 'dog',\n",
    "                'planet': 'neptun',\n",
    "                'number': 40,\n",
    "                'pi': 3.14,\n",
    "                'is_good': True}\n",
    "\n",
    "del dict_by_dict['pi']\n",
    "\n",
    "print(dict_by_dict)"
   ]
  },
  {
   "cell_type": "code",
   "execution_count": 236,
   "id": "8mqSuXwyueac",
   "metadata": {
    "colab": {
     "base_uri": "https://localhost:8080/"
    },
    "executionInfo": {
     "elapsed": 6,
     "status": "ok",
     "timestamp": 1639917974556,
     "user": {
      "displayName": "Bünyamin Polat",
      "photoUrl": "https://lh3.googleusercontent.com/a/default-user=s64",
      "userId": "03982086590103784785"
     },
     "user_tz": -180
    },
    "id": "8mqSuXwyueac",
    "outputId": "9917e476-c8a5-4b9f-816e-c3e7f57c34c9"
   },
   "outputs": [
    {
     "name": "stdout",
     "output_type": "stream",
     "text": [
      "{'planet': 'neptun', 'number': 40, 'is_good': True}\n"
     ]
    }
   ],
   "source": [
    "dict_by_dict.pop(\"animal\")\n",
    "\n",
    "print(dict_by_dict)"
   ]
  },
  {
   "cell_type": "code",
   "execution_count": 237,
   "id": "Y6ESo_uCueom",
   "metadata": {
    "colab": {
     "base_uri": "https://localhost:8080/"
    },
    "executionInfo": {
     "elapsed": 347,
     "status": "ok",
     "timestamp": 1639917998244,
     "user": {
      "displayName": "Bünyamin Polat",
      "photoUrl": "https://lh3.googleusercontent.com/a/default-user=s64",
      "userId": "03982086590103784785"
     },
     "user_tz": -180
    },
    "id": "Y6ESo_uCueom",
    "outputId": "13a31fae-84a3-4e46-ee8a-56f67f5d3ab7"
   },
   "outputs": [
    {
     "name": "stdout",
     "output_type": "stream",
     "text": [
      "{'planet': 'neptun', 'number': 40}\n"
     ]
    }
   ],
   "source": [
    "dict_by_dict.popitem()\n",
    "\n",
    "print(dict_by_dict)"
   ]
  },
  {
   "cell_type": "markdown",
   "id": "C16X3zU8uwku",
   "metadata": {
    "id": "C16X3zU8uwku"
   },
   "source": [
    "### Nested Dictionaries"
   ]
  },
  {
   "cell_type": "code",
   "execution_count": 238,
   "id": "b3faee03",
   "metadata": {
    "colab": {
     "base_uri": "https://localhost:8080/"
    },
    "executionInfo": {
     "elapsed": 26,
     "status": "ok",
     "timestamp": 1639915709188,
     "user": {
      "displayName": "Bünyamin Polat",
      "photoUrl": "https://lh3.googleusercontent.com/a/default-user=s64",
      "userId": "03982086590103784785"
     },
     "user_tz": -180
    },
    "id": "b3faee03",
    "outputId": "44b1da6f-46e9-49c9-faf2-363265113484"
   },
   "outputs": [
    {
     "name": "stdout",
     "output_type": "stream",
     "text": [
      "16\n"
     ]
    }
   ],
   "source": [
    "school_records={\"personal_info\":\n",
    "                {\"kid\":\n",
    "                 {\"tom\": {\"class\":\"intermediate\", \"age\":10},\n",
    "                  \"sue\": {\"class\":\"elementary\", \"age\":8}},\n",
    "                 \"teen\":{\"joseph\":{\"class\":\"college\", \"age\":19},\n",
    "                          \"marry\":{\"class\":\"high school\", \"age\":16}\n",
    "               },               \n",
    "        },\n",
    "}\n",
    "\n",
    "print(school_records['personal_info']['teen']['marry']['age'])"
   ]
  },
  {
   "cell_type": "markdown",
   "id": "3d2cd76d",
   "metadata": {
    "id": "3d2cd76d"
   },
   "source": [
    "![](https://drive.google.com/uc?id=1bXU_iyiY8iaj6t1D-UcnQQl5TlGKih-I)"
   ]
  },
  {
   "cell_type": "code",
   "execution_count": 239,
   "id": "b1c3fc6d",
   "metadata": {
    "colab": {
     "base_uri": "https://localhost:8080/"
    },
    "executionInfo": {
     "elapsed": 27,
     "status": "ok",
     "timestamp": 1639915709189,
     "user": {
      "displayName": "Bünyamin Polat",
      "photoUrl": "https://lh3.googleusercontent.com/a/default-user=s64",
      "userId": "03982086590103784785"
     },
     "user_tz": -180
    },
    "id": "b1c3fc6d",
    "outputId": "96c92845-7de5-40bc-a847-ad82dca9dab0"
   },
   "outputs": [
    {
     "name": "stdout",
     "output_type": "stream",
     "text": [
      "22\n",
      "Andy\n"
     ]
    }
   ],
   "source": [
    "customers = { \n",
    "'bank': \n",
    "{1: {'name': 'James', 'age': '27', 'sex': 'Male'}, \n",
    " 2: {'name': 'Nicole', 'age': '25', 'sex': 'Female'},  \n",
    " 3: {'name': 'Andy', 'age': '38', 'sex': 'Male'}, \n",
    " 4: {'name': 'Alex', 'age': '19', 'sex': 'Male'}, \n",
    " 5: {'name': 'Linda', 'age': '33', 'sex': 'Female'}, \n",
    "},\n",
    "'insurance':\n",
    "{1: {'name': 'Jashua', 'age': '33', 'sex': 'Male'}, \n",
    " 2: {'name': 'Marry', 'age': '66', 'sex': 'Female'},  \n",
    " 3: {'name': 'Adam', 'age': '56', 'sex': 'Male'}, \n",
    " 4: {'name': 'Samuel', 'age': '54', 'sex': 'Male'}, \n",
    " 5: {'name': 'Lisa', 'age': '22', 'sex': 'Female'},\n",
    "},\n",
    "}\n",
    "\n",
    "print(customers[\"insurance\"][5][\"age\"])\n",
    "\n",
    "print(customers[\"bank\"][3][\"name\"])"
   ]
  },
  {
   "cell_type": "markdown",
   "id": "9ed32d5b",
   "metadata": {},
   "source": [
    "## Sets\n",
    "- Sets are used to store multiple items in a single variable.\n",
    "\n",
    "- Set is one of 4 built-in data types in Python used to store collections of data, the other 3 are List, Tuple, and Dictionary, all with different qualities and usage.\n",
    "\n",
    "- A set is a collection which is unordered, unchangeable*, and unindexed."
   ]
  },
  {
   "cell_type": "code",
   "execution_count": 240,
   "id": "sxkCeHRunD34",
   "metadata": {
    "colab": {
     "base_uri": "https://localhost:8080/"
    },
    "executionInfo": {
     "elapsed": 364,
     "status": "ok",
     "timestamp": 1639916030709,
     "user": {
      "displayName": "Bünyamin Polat",
      "photoUrl": "https://lh3.googleusercontent.com/a/default-user=s64",
      "userId": "03982086590103784785"
     },
     "user_tz": -180
    },
    "id": "sxkCeHRunD34",
    "outputId": "1d1237d2-a07c-4b72-9499-8b5436562782"
   },
   "outputs": [
    {
     "data": {
      "text/plain": [
       "{'apple', 'banana', 'cherry'}"
      ]
     },
     "execution_count": 240,
     "metadata": {},
     "output_type": "execute_result"
    }
   ],
   "source": [
    "myset = {\"apple\", \"banana\", \"cherry\"}\n",
    "\n",
    "myset"
   ]
  },
  {
   "cell_type": "code",
   "execution_count": 241,
   "id": "agdyFIgEnD7A",
   "metadata": {
    "colab": {
     "base_uri": "https://localhost:8080/"
    },
    "executionInfo": {
     "elapsed": 450,
     "status": "ok",
     "timestamp": 1639916041233,
     "user": {
      "displayName": "Bünyamin Polat",
      "photoUrl": "https://lh3.googleusercontent.com/a/default-user=s64",
      "userId": "03982086590103784785"
     },
     "user_tz": -180
    },
    "id": "agdyFIgEnD7A",
    "outputId": "ee24b8df-9961-4903-b56e-3eadcc821c11"
   },
   "outputs": [
    {
     "name": "stdout",
     "output_type": "stream",
     "text": [
      "{'apple', 'banana', 'cherry'}\n"
     ]
    }
   ],
   "source": [
    "thisset = {\"apple\", \"banana\", \"cherry\", \"apple\"}\n",
    "\n",
    "print(thisset)"
   ]
  },
  {
   "cell_type": "code",
   "execution_count": 242,
   "id": "vPyVVP8mnD_n",
   "metadata": {
    "executionInfo": {
     "elapsed": 354,
     "status": "ok",
     "timestamp": 1639916061111,
     "user": {
      "displayName": "Bünyamin Polat",
      "photoUrl": "https://lh3.googleusercontent.com/a/default-user=s64",
      "userId": "03982086590103784785"
     },
     "user_tz": -180
    },
    "id": "vPyVVP8mnD_n"
   },
   "outputs": [],
   "source": [
    "set1 = {\"abc\", 34, True, 40, \"male\"}"
   ]
  },
  {
   "cell_type": "code",
   "execution_count": 243,
   "id": "a9wssFEInEDI",
   "metadata": {
    "executionInfo": {
     "elapsed": 354,
     "status": "ok",
     "timestamp": 1639916067620,
     "user": {
      "displayName": "Bünyamin Polat",
      "photoUrl": "https://lh3.googleusercontent.com/a/default-user=s64",
      "userId": "03982086590103784785"
     },
     "user_tz": -180
    },
    "id": "a9wssFEInEDI"
   },
   "outputs": [],
   "source": [
    "set1 = {\"apple\", \"banana\", \"cherry\"}\n",
    "set2 = {1, 5, 7, 9, 3}\n",
    "set3 = {True, False, False}"
   ]
  },
  {
   "cell_type": "code",
   "execution_count": 244,
   "id": "VxVfdLx4nEGk",
   "metadata": {
    "colab": {
     "base_uri": "https://localhost:8080/"
    },
    "executionInfo": {
     "elapsed": 347,
     "status": "ok",
     "timestamp": 1639916118070,
     "user": {
      "displayName": "Bünyamin Polat",
      "photoUrl": "https://lh3.googleusercontent.com/a/default-user=s64",
      "userId": "03982086590103784785"
     },
     "user_tz": -180
    },
    "id": "VxVfdLx4nEGk",
    "outputId": "09ff4ee0-f6c2-4f0a-df10-b44cbf228b06"
   },
   "outputs": [
    {
     "name": "stdout",
     "output_type": "stream",
     "text": [
      "{'apple', 'banana', 'cherry'}\n"
     ]
    }
   ],
   "source": [
    "thisset = set((\"apple\", \"banana\", \"cherry\",\"apple\")) # note that it is double bracketed\n",
    "print(thisset)"
   ]
  },
  {
   "cell_type": "markdown",
   "id": "67d58d3c",
   "metadata": {
    "id": "67d58d3c"
   },
   "source": [
    "# Conditional Statements"
   ]
  },
  {
   "cell_type": "code",
   "execution_count": 245,
   "id": "bdd48c97",
   "metadata": {
    "colab": {
     "base_uri": "https://localhost:8080/"
    },
    "executionInfo": {
     "elapsed": 25,
     "status": "ok",
     "timestamp": 1639915709189,
     "user": {
      "displayName": "Bünyamin Polat",
      "photoUrl": "https://lh3.googleusercontent.com/a/default-user=s64",
      "userId": "03982086590103784785"
     },
     "user_tz": -180
    },
    "id": "bdd48c97",
    "outputId": "c7923eab-f704-43b2-8918-49a90df71ea2"
   },
   "outputs": [
    {
     "name": "stdout",
     "output_type": "stream",
     "text": [
      "there is still seat to sit\n"
     ]
    }
   ],
   "source": [
    "empty_seat = 14\n",
    "\n",
    "if empty_seat > 3:  \n",
    "    print('there is still seat to sit')"
   ]
  },
  {
   "cell_type": "markdown",
   "id": "759174a3",
   "metadata": {
    "id": "759174a3"
   },
   "source": [
    "### Comparison Operators"
   ]
  },
  {
   "cell_type": "markdown",
   "id": "6d8384ac",
   "metadata": {
    "id": "6d8384ac"
   },
   "source": [
    "![](https://drive.google.com/uc?id=1-InNXxM0nPM1M8zFV6wHdR1g9RE_6lqj)"
   ]
  },
  {
   "cell_type": "code",
   "execution_count": 246,
   "id": "5ea42ba9",
   "metadata": {
    "colab": {
     "base_uri": "https://localhost:8080/"
    },
    "executionInfo": {
     "elapsed": 24,
     "status": "ok",
     "timestamp": 1639915709189,
     "user": {
      "displayName": "Bünyamin Polat",
      "photoUrl": "https://lh3.googleusercontent.com/a/default-user=s64",
      "userId": "03982086590103784785"
     },
     "user_tz": -180
    },
    "id": "5ea42ba9",
    "outputId": "67b21f8a-eef8-428a-b8a6-f42ccefcd793",
    "scrolled": true
   },
   "outputs": [
    {
     "name": "stdout",
     "output_type": "stream",
     "text": [
      "is x equal to y?                 : False\n",
      "is x not equal to y?             : True\n",
      "is x less than y?                : True\n",
      "is x greater than y?             : False\n",
      "is x less than or equal to y?    : True\n",
      "is x greater than or equal to y? : False\n"
     ]
    }
   ],
   "source": [
    "x = 6\n",
    "\n",
    "y = 9\n",
    "\n",
    "print (\"is x equal to y?                 :\" , x == y)\n",
    "\n",
    "print (\"is x not equal to y?             :\" , x != y)\n",
    "\n",
    "print (\"is x less than y?                :\" , x < y)\n",
    "\n",
    "print (\"is x greater than y?             :\" , x > y)\n",
    "\n",
    "print (\"is x less than or equal to y?    :\" , x <= y)\n",
    "\n",
    "print (\"is x greater than or equal to y? :\" , x >= y)"
   ]
  },
  {
   "cell_type": "code",
   "execution_count": 247,
   "id": "de8b41d2",
   "metadata": {
    "colab": {
     "base_uri": "https://localhost:8080/"
    },
    "executionInfo": {
     "elapsed": 24,
     "status": "ok",
     "timestamp": 1639915709190,
     "user": {
      "displayName": "Bünyamin Polat",
      "photoUrl": "https://lh3.googleusercontent.com/a/default-user=s64",
      "userId": "03982086590103784785"
     },
     "user_tz": -180
    },
    "id": "de8b41d2",
    "outputId": "0daf4c6d-3c4c-4638-8c20-f17d93f0553b"
   },
   "outputs": [
    {
     "name": "stdout",
     "output_type": "stream",
     "text": [
      "Number is bigger than 3\n"
     ]
    }
   ],
   "source": [
    "number = 5\n",
    "\n",
    "if number <= 3:    \n",
    "    print(\"Number is smaller than or equal to 3\") \n",
    "else: \n",
    "    print(\"Number is bigger than 3\")"
   ]
  },
  {
   "cell_type": "code",
   "execution_count": 248,
   "id": "d96d2ac3",
   "metadata": {
    "colab": {
     "base_uri": "https://localhost:8080/"
    },
    "executionInfo": {
     "elapsed": 23,
     "status": "ok",
     "timestamp": 1639915709190,
     "user": {
      "displayName": "Bünyamin Polat",
      "photoUrl": "https://lh3.googleusercontent.com/a/default-user=s64",
      "userId": "03982086590103784785"
     },
     "user_tz": -180
    },
    "id": "d96d2ac3",
    "outputId": "4a483d1f-c88e-4c6d-92a0-96c0d22b0de4"
   },
   "outputs": [
    {
     "name": "stdout",
     "output_type": "stream",
     "text": [
      "I can have a little\n"
     ]
    }
   ],
   "source": [
    "basket = ['apple', 'peach', 'blackberry']\n",
    "fruit = \"banana\"\n",
    "\n",
    "\n",
    "if fruit  not  in  basket :\n",
    "    print('I can have a little')\n",
    "else :\n",
    "    print('I have already ')"
   ]
  },
  {
   "cell_type": "code",
   "execution_count": 249,
   "id": "1a181c8e",
   "metadata": {
    "colab": {
     "base_uri": "https://localhost:8080/"
    },
    "executionInfo": {
     "elapsed": 23,
     "status": "ok",
     "timestamp": 1639915709191,
     "user": {
      "displayName": "Bünyamin Polat",
      "photoUrl": "https://lh3.googleusercontent.com/a/default-user=s64",
      "userId": "03982086590103784785"
     },
     "user_tz": -180
    },
    "id": "1a181c8e",
    "outputId": "f4bb3634-1147-49fb-989d-965ac5f788d6"
   },
   "outputs": [
    {
     "name": "stdout",
     "output_type": "stream",
     "text": [
      "I can lift that!\n"
     ]
    }
   ],
   "source": [
    "weight = 80\n",
    "\n",
    "if weight > 100:\n",
    "    print(\"That's too heavy!\")\n",
    "elif weight > 75:\n",
    "    print(\"I can lift that!\")\n",
    "else:\n",
    "    print(\"That's too light!\")"
   ]
  },
  {
   "cell_type": "code",
   "execution_count": 250,
   "id": "24e16c62",
   "metadata": {
    "colab": {
     "base_uri": "https://localhost:8080/"
    },
    "executionInfo": {
     "elapsed": 21,
     "status": "ok",
     "timestamp": 1639915709191,
     "user": {
      "displayName": "Bünyamin Polat",
      "photoUrl": "https://lh3.googleusercontent.com/a/default-user=s64",
      "userId": "03982086590103784785"
     },
     "user_tz": -180
    },
    "id": "24e16c62",
    "outputId": "c72bab2e-e6b7-4857-fc58-8c8490a3d3df"
   },
   "outputs": [
    {
     "name": "stdout",
     "output_type": "stream",
     "text": [
      "No such audience, stay at your home!\n"
     ]
    }
   ],
   "source": [
    "audience = \"baby\"\n",
    "\n",
    "if audience == \"kid\":\n",
    "    print(\"it is free to go to cinema\")\n",
    "elif audience == \"teen\":\n",
    "    print(\"discounted price!\")\n",
    "elif audience == \"adult\":\n",
    "    print(\"normal price\")\n",
    "else:\n",
    "    print(\"No such audience, stay at your home!\")"
   ]
  },
  {
   "cell_type": "markdown",
   "id": "1970a84d",
   "metadata": {
    "id": "1970a84d"
   },
   "source": [
    "![](https://drive.google.com/uc?id=1TshyBWJkuK6jBCm_FzQFll_BEQSnes1B)"
   ]
  },
  {
   "cell_type": "code",
   "execution_count": null,
   "id": "ca517170",
   "metadata": {
    "colab": {
     "base_uri": "https://localhost:8080/"
    },
    "executionInfo": {
     "elapsed": 130984,
     "status": "ok",
     "timestamp": 1639915840155,
     "user": {
      "displayName": "Bünyamin Polat",
      "photoUrl": "https://lh3.googleusercontent.com/a/default-user=s64",
      "userId": "03982086590103784785"
     },
     "user_tz": -180
    },
    "id": "ca517170",
    "outputId": "bd712fae-e7f2-4c70-c0e1-f7ee8cda46f7"
   },
   "outputs": [],
   "source": [
    "score = int(input(\"Enter your score :\"))\n",
    "\n",
    "if score >= 90 :\n",
    "    if score >= 95:\n",
    "        Score_letter=\"A+\"\n",
    "    else:\n",
    "        Score_letter=\"A\"\n",
    "elif score >= 80:\n",
    "    if score >= 85:\n",
    "        Score_letter=\"B+\"\n",
    "    else:\n",
    "        Score_letter=\"B\"\n",
    "else:\n",
    "    Score_letter=\"below B\"\n",
    "\n",
    "print (\"Your degree: %s\" % Score_letter)"
   ]
  },
  {
   "cell_type": "markdown",
   "id": "c58d5c06",
   "metadata": {
    "id": "c58d5c06"
   },
   "source": [
    "## Loops"
   ]
  },
  {
   "cell_type": "markdown",
   "id": "c7c42d8a",
   "metadata": {
    "id": "c7c42d8a"
   },
   "source": [
    "### while"
   ]
  },
  {
   "cell_type": "code",
   "execution_count": 253,
   "id": "b0089112",
   "metadata": {
    "colab": {
     "base_uri": "https://localhost:8080/"
    },
    "executionInfo": {
     "elapsed": 13,
     "status": "ok",
     "timestamp": 1639915840155,
     "user": {
      "displayName": "Bünyamin Polat",
      "photoUrl": "https://lh3.googleusercontent.com/a/default-user=s64",
      "userId": "03982086590103784785"
     },
     "user_tz": -180
    },
    "id": "b0089112",
    "outputId": "613a46a7-6304-412a-be3a-938b978a44f2"
   },
   "outputs": [
    {
     "name": "stdout",
     "output_type": "stream",
     "text": [
      "0\n",
      "1\n",
      "2\n",
      "3\n",
      "4\n",
      "5\n",
      "now, number is bigger or equal to 6\n"
     ]
    }
   ],
   "source": [
    "number = 0\n",
    "\n",
    "while number < 6:\n",
    "    print(number)\n",
    "    number +=1\n",
    "print('now, number is bigger or equal to 6')"
   ]
  },
  {
   "cell_type": "code",
   "execution_count": 254,
   "id": "52ff27ab",
   "metadata": {
    "colab": {
     "base_uri": "https://localhost:8080/"
    },
    "executionInfo": {
     "elapsed": 9,
     "status": "ok",
     "timestamp": 1639915840156,
     "user": {
      "displayName": "Bünyamin Polat",
      "photoUrl": "https://lh3.googleusercontent.com/a/default-user=s64",
      "userId": "03982086590103784785"
     },
     "user_tz": -180
    },
    "id": "52ff27ab",
    "outputId": "51608c57-97ce-497a-d3f7-2ce81cae063b"
   },
   "outputs": [
    {
     "name": "stdout",
     "output_type": "stream",
     "text": [
      "square of 0 is : 0\n",
      "square of 1 is : 1\n",
      "square of 2 is : 4\n",
      "square of 3 is : 9\n",
      "square of 4 is : 16\n"
     ]
    }
   ],
   "source": [
    "my_list=[\"a\", \"b\", \"c\", \"d\", \"e\"]\n",
    "\n",
    "a = 0\n",
    "\n",
    "while a < len(my_list):\n",
    "    print('square of {} is : {}'.format(a, a**2))\n",
    "    a+=1"
   ]
  },
  {
   "cell_type": "code",
   "execution_count": null,
   "id": "56b8eb25",
   "metadata": {
    "colab": {
     "base_uri": "https://localhost:8080/"
    },
    "executionInfo": {
     "elapsed": 16432,
     "status": "ok",
     "timestamp": 1639915856581,
     "user": {
      "displayName": "Bünyamin Polat",
      "photoUrl": "https://lh3.googleusercontent.com/a/default-user=s64",
      "userId": "03982086590103784785"
     },
     "user_tz": -180
    },
    "id": "56b8eb25",
    "outputId": "ba6117d8-c336-484a-f9c7-49a7a16e3458"
   },
   "outputs": [],
   "source": [
    "answer = 44\n",
    "\n",
    "question = 'What number am I thinking of? '\n",
    "\n",
    "print (\"Let's play the guessing game!\\n\")\n",
    "\n",
    "while True:\n",
    "    guess = int(input(question))\n",
    "    print()\n",
    "\n",
    "    if guess < answer:\n",
    "        print('Little higher\\n')\n",
    "    elif guess > answer:\n",
    "        print('Little lower\\n')\n",
    "    else:  # guess == answer\n",
    "        print('Are you a MINDREADER!!!\\n')\n",
    "        break"
   ]
  },
  {
   "cell_type": "markdown",
   "id": "43cb9811",
   "metadata": {
    "id": "43cb9811"
   },
   "source": [
    "### for"
   ]
  },
  {
   "cell_type": "code",
   "execution_count": 256,
   "id": "f70b560a",
   "metadata": {
    "colab": {
     "base_uri": "https://localhost:8080/"
    },
    "executionInfo": {
     "elapsed": 135,
     "status": "ok",
     "timestamp": 1639915856582,
     "user": {
      "displayName": "Bünyamin Polat",
      "photoUrl": "https://lh3.googleusercontent.com/a/default-user=s64",
      "userId": "03982086590103784785"
     },
     "user_tz": -180
    },
    "id": "f70b560a",
    "outputId": "253a122d-fa14-4b92-8803-728f95d3610b"
   },
   "outputs": [
    {
     "name": "stdout",
     "output_type": "stream",
     "text": [
      "1\n",
      "2\n",
      "3\n",
      "4\n",
      "5\n"
     ]
    }
   ],
   "source": [
    "for i in [1, 2, 3, 4, 5] :\n",
    "    print(i)"
   ]
  },
  {
   "cell_type": "code",
   "execution_count": 257,
   "id": "84af9f31",
   "metadata": {
    "colab": {
     "base_uri": "https://localhost:8080/"
    },
    "executionInfo": {
     "elapsed": 131,
     "status": "ok",
     "timestamp": 1639915856582,
     "user": {
      "displayName": "Bünyamin Polat",
      "photoUrl": "https://lh3.googleusercontent.com/a/default-user=s64",
      "userId": "03982086590103784785"
     },
     "user_tz": -180
    },
    "id": "84af9f31",
    "outputId": "14ba3c92-f618-4048-b367-d344a91278ce"
   },
   "outputs": [
    {
     "name": "stdout",
     "output_type": "stream",
     "text": [
      "spring\n",
      "summer\n",
      "autumn\n",
      "winter\n"
     ]
    }
   ],
   "source": [
    "seasons = ['spring', 'summer', 'autumn', 'winter']\n",
    "\n",
    "for l in seasons :\n",
    "    print(l)"
   ]
  },
  {
   "cell_type": "code",
   "execution_count": 258,
   "id": "c5c55e8f",
   "metadata": {
    "colab": {
     "base_uri": "https://localhost:8080/"
    },
    "executionInfo": {
     "elapsed": 126,
     "status": "ok",
     "timestamp": 1639915856583,
     "user": {
      "displayName": "Bünyamin Polat",
      "photoUrl": "https://lh3.googleusercontent.com/a/default-user=s64",
      "userId": "03982086590103784785"
     },
     "user_tz": -180
    },
    "id": "c5c55e8f",
    "outputId": "5c7b71c1-aed1-4bf6-effa-12010a973311"
   },
   "outputs": [
    {
     "name": "stdout",
     "output_type": "stream",
     "text": [
      "---------------\n",
      "1x1 = 1\n",
      "1x2 = 2\n",
      "1x3 = 3\n",
      "1x4 = 4\n",
      "1x5 = 5\n",
      "1x6 = 6\n",
      "1x7 = 7\n",
      "1x8 = 8\n",
      "1x9 = 9\n",
      "1x10 = 10\n",
      "---------------\n",
      "2x1 = 2\n",
      "2x2 = 4\n",
      "2x3 = 6\n",
      "2x4 = 8\n",
      "2x5 = 10\n",
      "2x6 = 12\n",
      "2x7 = 14\n",
      "2x8 = 16\n",
      "2x9 = 18\n",
      "2x10 = 20\n",
      "---------------\n",
      "3x1 = 3\n",
      "3x2 = 6\n",
      "3x3 = 9\n",
      "3x4 = 12\n",
      "3x5 = 15\n",
      "3x6 = 18\n",
      "3x7 = 21\n",
      "3x8 = 24\n",
      "3x9 = 27\n",
      "3x10 = 30\n",
      "---------------\n",
      "4x1 = 4\n",
      "4x2 = 8\n",
      "4x3 = 12\n",
      "4x4 = 16\n",
      "4x5 = 20\n",
      "4x6 = 24\n",
      "4x7 = 28\n",
      "4x8 = 32\n",
      "4x9 = 36\n",
      "4x10 = 40\n",
      "---------------\n",
      "5x1 = 5\n",
      "5x2 = 10\n",
      "5x3 = 15\n",
      "5x4 = 20\n",
      "5x5 = 25\n",
      "5x6 = 30\n",
      "5x7 = 35\n",
      "5x8 = 40\n",
      "5x9 = 45\n",
      "5x10 = 50\n",
      "---------------\n",
      "6x1 = 6\n",
      "6x2 = 12\n",
      "6x3 = 18\n",
      "6x4 = 24\n",
      "6x5 = 30\n",
      "6x6 = 36\n",
      "6x7 = 42\n",
      "6x8 = 48\n",
      "6x9 = 54\n",
      "6x10 = 60\n",
      "---------------\n",
      "7x1 = 7\n",
      "7x2 = 14\n",
      "7x3 = 21\n",
      "7x4 = 28\n",
      "7x5 = 35\n",
      "7x6 = 42\n",
      "7x7 = 49\n",
      "7x8 = 56\n",
      "7x9 = 63\n",
      "7x10 = 70\n",
      "---------------\n",
      "8x1 = 8\n",
      "8x2 = 16\n",
      "8x3 = 24\n",
      "8x4 = 32\n",
      "8x5 = 40\n",
      "8x6 = 48\n",
      "8x7 = 56\n",
      "8x8 = 64\n",
      "8x9 = 72\n",
      "8x10 = 80\n",
      "---------------\n",
      "9x1 = 9\n",
      "9x2 = 18\n",
      "9x3 = 27\n",
      "9x4 = 36\n",
      "9x5 = 45\n",
      "9x6 = 54\n",
      "9x7 = 63\n",
      "9x8 = 72\n",
      "9x9 = 81\n",
      "9x10 = 90\n",
      "---------------\n",
      "10x1 = 10\n",
      "10x2 = 20\n",
      "10x3 = 30\n",
      "10x4 = 40\n",
      "10x5 = 50\n",
      "10x6 = 60\n",
      "10x7 = 70\n",
      "10x8 = 80\n",
      "10x9 = 90\n",
      "10x10 = 100\n"
     ]
    }
   ],
   "source": [
    "for i in range(1,11):\n",
    "    print(\"---\"*5)\n",
    "    for j in range(1,11):\n",
    "        print('{}x{} ='.format(i, j), j*i, end='\\n')"
   ]
  },
  {
   "cell_type": "code",
   "execution_count": 260,
   "id": "b96a74be",
   "metadata": {
    "colab": {
     "base_uri": "https://localhost:8080/"
    },
    "executionInfo": {
     "elapsed": 121,
     "status": "ok",
     "timestamp": 1639915856583,
     "user": {
      "displayName": "Bünyamin Polat",
      "photoUrl": "https://lh3.googleusercontent.com/a/default-user=s64",
      "userId": "03982086590103784785"
     },
     "user_tz": -180
    },
    "id": "b96a74be",
    "outputId": "7eabcf25-cd5d-4508-9a42-0cddd421925b"
   },
   "outputs": [
    {
     "name": "stdout",
     "output_type": "stream",
     "text": [
      "[0, 1, 2, 3, 4, 5, 6, 7, 8, 9, 10]\n"
     ]
    }
   ],
   "source": [
    "b = list(range(11))\n",
    "\n",
    "print(b)"
   ]
  },
  {
   "cell_type": "code",
   "execution_count": 261,
   "id": "7ced0035",
   "metadata": {
    "colab": {
     "base_uri": "https://localhost:8080/"
    },
    "executionInfo": {
     "elapsed": 116,
     "status": "ok",
     "timestamp": 1639915856583,
     "user": {
      "displayName": "Bünyamin Polat",
      "photoUrl": "https://lh3.googleusercontent.com/a/default-user=s64",
      "userId": "03982086590103784785"
     },
     "user_tz": -180
    },
    "id": "7ced0035",
    "outputId": "20e004e0-255c-4b9d-a75d-7e248da59f66"
   },
   "outputs": [
    {
     "name": "stdout",
     "output_type": "stream",
     "text": [
      "one : 4\n",
      "two : 2\n",
      "three : 3\n",
      "four : 4\n",
      "five : 5\n"
     ]
    }
   ],
   "source": [
    "text = ['one','two','three','four','five']\n",
    "numbers = [4,2, 3, 4, 5]\n",
    "\n",
    "for x, y in zip(text, numbers):\n",
    "    print(x, ':', y)"
   ]
  },
  {
   "cell_type": "code",
   "execution_count": 262,
   "id": "c93d990f",
   "metadata": {
    "colab": {
     "base_uri": "https://localhost:8080/"
    },
    "executionInfo": {
     "elapsed": 112,
     "status": "ok",
     "timestamp": 1639915856584,
     "user": {
      "displayName": "Bünyamin Polat",
      "photoUrl": "https://lh3.googleusercontent.com/a/default-user=s64",
      "userId": "03982086590103784785"
     },
     "user_tz": -180
    },
    "id": "c93d990f",
    "outputId": "eb271d55-ef5c-42aa-ff7d-3459ee9e9d93"
   },
   "outputs": [
    {
     "name": "stdout",
     "output_type": "stream",
     "text": [
      "10\n",
      "12\n",
      "14\n",
      "12\n",
      "14\n",
      "16\n",
      "14\n",
      "16\n",
      "18\n"
     ]
    }
   ],
   "source": [
    "num1 = [3,5,7]\n",
    "num2 = [7,9,11]\n",
    "for i in num1:\n",
    "    for k in num2:\n",
    "        print(i + k)"
   ]
  },
  {
   "cell_type": "markdown",
   "id": "CytKyUe0jzdw",
   "metadata": {
    "id": "CytKyUe0jzdw"
   },
   "source": [
    "## List Compherension"
   ]
  },
  {
   "cell_type": "code",
   "execution_count": 263,
   "id": "K9tI5Rkdj32I",
   "metadata": {
    "colab": {
     "base_uri": "https://localhost:8080/"
    },
    "executionInfo": {
     "elapsed": 107,
     "status": "ok",
     "timestamp": 1639915856584,
     "user": {
      "displayName": "Bünyamin Polat",
      "photoUrl": "https://lh3.googleusercontent.com/a/default-user=s64",
      "userId": "03982086590103784785"
     },
     "user_tz": -180
    },
    "id": "K9tI5Rkdj32I",
    "outputId": "59564ca9-9ac5-43df-9170-152c471f05d4"
   },
   "outputs": [
    {
     "name": "stdout",
     "output_type": "stream",
     "text": [
      "['apple', 'banana', 'mango']\n"
     ]
    }
   ],
   "source": [
    "fruits = [\"apple\", \"banana\", \"cherry\", \"kiwi\", \"mango\"]\n",
    "newlist = []\n",
    "\n",
    "for x in fruits:\n",
    "    if \"a\" in x:\n",
    "        newlist.append(x)\n",
    "\n",
    "print(newlist)"
   ]
  },
  {
   "cell_type": "code",
   "execution_count": 264,
   "id": "StFVhW6gj346",
   "metadata": {
    "colab": {
     "base_uri": "https://localhost:8080/"
    },
    "executionInfo": {
     "elapsed": 103,
     "status": "ok",
     "timestamp": 1639915856585,
     "user": {
      "displayName": "Bünyamin Polat",
      "photoUrl": "https://lh3.googleusercontent.com/a/default-user=s64",
      "userId": "03982086590103784785"
     },
     "user_tz": -180
    },
    "id": "StFVhW6gj346",
    "outputId": "f913962e-db89-42d2-fd54-3abcafc5eb5f"
   },
   "outputs": [
    {
     "name": "stdout",
     "output_type": "stream",
     "text": [
      "['apple', 'banana', 'mango']\n"
     ]
    }
   ],
   "source": [
    "fruits = [\"apple\", \"banana\", \"cherry\", \"kiwi\", \"mango\"]\n",
    "\n",
    "newlist = [x for x in fruits if \"a\" in x]\n",
    "\n",
    "print(newlist)"
   ]
  },
  {
   "cell_type": "code",
   "execution_count": 265,
   "id": "M2EOUtmclJXD",
   "metadata": {
    "colab": {
     "base_uri": "https://localhost:8080/"
    },
    "executionInfo": {
     "elapsed": 98,
     "status": "ok",
     "timestamp": 1639915856585,
     "user": {
      "displayName": "Bünyamin Polat",
      "photoUrl": "https://lh3.googleusercontent.com/a/default-user=s64",
      "userId": "03982086590103784785"
     },
     "user_tz": -180
    },
    "id": "M2EOUtmclJXD",
    "outputId": "b751d31c-b32e-4ae4-f4ba-5ba9f6954de0"
   },
   "outputs": [
    {
     "data": {
      "text/plain": [
       "['apple', 'orange', 'cherry', 'kiwi', 'mango']"
      ]
     },
     "execution_count": 265,
     "metadata": {},
     "output_type": "execute_result"
    }
   ],
   "source": [
    "newlist = [x if x != \"banana\" else \"orange\" for x in fruits]\n",
    "\n",
    "newlist"
   ]
  },
  {
   "cell_type": "code",
   "execution_count": 266,
   "id": "0Ek67ZoHj38y",
   "metadata": {
    "colab": {
     "base_uri": "https://localhost:8080/"
    },
    "executionInfo": {
     "elapsed": 93,
     "status": "ok",
     "timestamp": 1639915856586,
     "user": {
      "displayName": "Bünyamin Polat",
      "photoUrl": "https://lh3.googleusercontent.com/a/default-user=s64",
      "userId": "03982086590103784785"
     },
     "user_tz": -180
    },
    "id": "0Ek67ZoHj38y",
    "outputId": "ece7b976-96e3-4fe1-9598-910a72d98244"
   },
   "outputs": [
    {
     "data": {
      "text/plain": [
       "['apple', 'banana', 'cherry', 'kiwi', 'mango']"
      ]
     },
     "execution_count": 266,
     "metadata": {},
     "output_type": "execute_result"
    }
   ],
   "source": [
    "[x for x in fruits]"
   ]
  },
  {
   "cell_type": "code",
   "execution_count": 267,
   "id": "579MCYRuj3_o",
   "metadata": {
    "colab": {
     "base_uri": "https://localhost:8080/"
    },
    "executionInfo": {
     "elapsed": 88,
     "status": "ok",
     "timestamp": 1639915856586,
     "user": {
      "displayName": "Bünyamin Polat",
      "photoUrl": "https://lh3.googleusercontent.com/a/default-user=s64",
      "userId": "03982086590103784785"
     },
     "user_tz": -180
    },
    "id": "579MCYRuj3_o",
    "outputId": "20f04774-5861-4544-f52c-6a44f5feab5f"
   },
   "outputs": [
    {
     "data": {
      "text/plain": [
       "[0, 1, 2, 3, 4, 5, 6, 7, 8, 9]"
      ]
     },
     "execution_count": 267,
     "metadata": {},
     "output_type": "execute_result"
    }
   ],
   "source": [
    "newlist = [x for x in range(10)]\n",
    "newlist"
   ]
  },
  {
   "cell_type": "markdown",
   "id": "uo3C1rHUnZC2",
   "metadata": {
    "id": "uo3C1rHUnZC2"
   },
   "source": [
    "# Functions"
   ]
  },
  {
   "cell_type": "markdown",
   "id": "57e9db47",
   "metadata": {
    "id": "57e9db47"
   },
   "source": [
    "## Docstring "
   ]
  },
  {
   "cell_type": "code",
   "execution_count": 268,
   "id": "b935ba29",
   "metadata": {
    "colab": {
     "base_uri": "https://localhost:8080/"
    },
    "executionInfo": {
     "elapsed": 85,
     "status": "ok",
     "timestamp": 1639915856588,
     "user": {
      "displayName": "Bünyamin Polat",
      "photoUrl": "https://lh3.googleusercontent.com/a/default-user=s64",
      "userId": "03982086590103784785"
     },
     "user_tz": -180
    },
    "id": "b935ba29",
    "outputId": "36f92b46-caa7-4871-e4d4-f6fe2d625b2e"
   },
   "outputs": [
    {
     "name": "stdout",
     "output_type": "stream",
     "text": [
      "\n",
      "    I am the description line of this function. I explain the definition of the function and the parameters it takes.\n",
      "    \n"
     ]
    }
   ],
   "source": [
    "def function():\n",
    "    \"\"\"\n",
    "    I am the description line of this function. I explain the definition of the function and the parameters it takes.\n",
    "    \"\"\"\n",
    "print(function.__doc__)"
   ]
  },
  {
   "cell_type": "code",
   "execution_count": 269,
   "id": "95c12247",
   "metadata": {
    "executionInfo": {
     "elapsed": 81,
     "status": "ok",
     "timestamp": 1639915856589,
     "user": {
      "displayName": "Bünyamin Polat",
      "photoUrl": "https://lh3.googleusercontent.com/a/default-user=s64",
      "userId": "03982086590103784785"
     },
     "user_tz": -180
    },
    "id": "95c12247"
   },
   "outputs": [],
   "source": [
    "def my_function():\n",
    "    print(\"Hello from a function\")"
   ]
  },
  {
   "cell_type": "code",
   "execution_count": 270,
   "id": "oKbhIr0tn5o8",
   "metadata": {
    "colab": {
     "base_uri": "https://localhost:8080/"
    },
    "executionInfo": {
     "elapsed": 80,
     "status": "ok",
     "timestamp": 1639915856589,
     "user": {
      "displayName": "Bünyamin Polat",
      "photoUrl": "https://lh3.googleusercontent.com/a/default-user=s64",
      "userId": "03982086590103784785"
     },
     "user_tz": -180
    },
    "id": "oKbhIr0tn5o8",
    "outputId": "dd4758b6-809a-4d7e-bcc1-8e80e0280fa3"
   },
   "outputs": [
    {
     "name": "stdout",
     "output_type": "stream",
     "text": [
      "Hello from a function\n"
     ]
    }
   ],
   "source": [
    "my_function()"
   ]
  },
  {
   "cell_type": "code",
   "execution_count": 271,
   "id": "pX-O2gean5s9",
   "metadata": {
    "colab": {
     "base_uri": "https://localhost:8080/"
    },
    "executionInfo": {
     "elapsed": 75,
     "status": "ok",
     "timestamp": 1639915856589,
     "user": {
      "displayName": "Bünyamin Polat",
      "photoUrl": "https://lh3.googleusercontent.com/a/default-user=s64",
      "userId": "03982086590103784785"
     },
     "user_tz": -180
    },
    "id": "pX-O2gean5s9",
    "outputId": "7aada753-3158-4127-df87-a444e4913954"
   },
   "outputs": [
    {
     "name": "stdout",
     "output_type": "stream",
     "text": [
      "Machine Learning\n",
      "Deep Learning\n"
     ]
    }
   ],
   "source": [
    "def my_function(var):\n",
    "    print(var + \" Learning\")\n",
    "\n",
    "my_function(\"Machine\")\n",
    "my_function(\"Deep\")"
   ]
  },
  {
   "cell_type": "code",
   "execution_count": 272,
   "id": "R7iIj7BLeAHG",
   "metadata": {
    "colab": {
     "base_uri": "https://localhost:8080/"
    },
    "executionInfo": {
     "elapsed": 72,
     "status": "ok",
     "timestamp": 1639915856590,
     "user": {
      "displayName": "Bünyamin Polat",
      "photoUrl": "https://lh3.googleusercontent.com/a/default-user=s64",
      "userId": "03982086590103784785"
     },
     "user_tz": -180
    },
    "id": "R7iIj7BLeAHG",
    "outputId": "6f2418bc-d048-447f-c2d8-6c7b6a1bf516"
   },
   "outputs": [
    {
     "name": "stdout",
     "output_type": "stream",
     "text": [
      "I am from Sweden\n",
      "I am from India\n",
      "I am from Turkey\n",
      "I am from Brazil\n"
     ]
    }
   ],
   "source": [
    "def my_function(country = \"Turkey\"):\n",
    "    print(\"I am from \" + country)\n",
    "\n",
    "my_function(\"Sweden\")\n",
    "my_function(\"India\")\n",
    "my_function()\n",
    "my_function(\"Brazil\")"
   ]
  },
  {
   "cell_type": "code",
   "execution_count": 273,
   "id": "Tqugw-oheAMM",
   "metadata": {
    "colab": {
     "base_uri": "https://localhost:8080/"
    },
    "executionInfo": {
     "elapsed": 67,
     "status": "ok",
     "timestamp": 1639915856590,
     "user": {
      "displayName": "Bünyamin Polat",
      "photoUrl": "https://lh3.googleusercontent.com/a/default-user=s64",
      "userId": "03982086590103784785"
     },
     "user_tz": -180
    },
    "id": "Tqugw-oheAMM",
    "outputId": "ecd0877e-66be-4ee6-a8ca-f810c1f4bfd4"
   },
   "outputs": [
    {
     "name": "stdout",
     "output_type": "stream",
     "text": [
      "I am a function that calculates absolute value\n",
      "2\n",
      "4\n"
     ]
    }
   ],
   "source": [
    "def absolute_value(num):\n",
    "    \"\"\"I am a function that calculates absolute value\"\"\"\n",
    "\n",
    "    if num >= 0:\n",
    "        return num\n",
    "    else:\n",
    "        return -num\n",
    "\n",
    "\n",
    "print(absolute_value.__doc__)\n",
    "\n",
    "print(absolute_value(2))\n",
    "\n",
    "print(absolute_value(-4))"
   ]
  },
  {
   "cell_type": "markdown",
   "id": "jY0J94Q8hOMP",
   "metadata": {
    "id": "jY0J94Q8hOMP"
   },
   "source": [
    "## Unknown Number of Arguments *args"
   ]
  },
  {
   "cell_type": "code",
   "execution_count": 274,
   "id": "faYRm2f9eASc",
   "metadata": {
    "colab": {
     "base_uri": "https://localhost:8080/"
    },
    "executionInfo": {
     "elapsed": 61,
     "status": "ok",
     "timestamp": 1639915856590,
     "user": {
      "displayName": "Bünyamin Polat",
      "photoUrl": "https://lh3.googleusercontent.com/a/default-user=s64",
      "userId": "03982086590103784785"
     },
     "user_tz": -180
    },
    "id": "faYRm2f9eASc",
    "outputId": "11543bf5-7aa4-4779-9a7e-c0e7870e575d"
   },
   "outputs": [
    {
     "name": "stdout",
     "output_type": "stream",
     "text": [
      "Hello  Ali ,  Ahmet ,  Mehmet\n"
     ]
    }
   ],
   "source": [
    "def greet(*names):  \n",
    "    print ('Hello ', names[0], ', ', names[1], ', ', names[2])\n",
    "\n",
    "greet('Ali', 'Ahmet', 'Mehmet') "
   ]
  },
  {
   "cell_type": "code",
   "execution_count": 275,
   "id": "O00TuOBrn51_",
   "metadata": {
    "colab": {
     "base_uri": "https://localhost:8080/"
    },
    "executionInfo": {
     "elapsed": 56,
     "status": "ok",
     "timestamp": 1639915856591,
     "user": {
      "displayName": "Bünyamin Polat",
      "photoUrl": "https://lh3.googleusercontent.com/a/default-user=s64",
      "userId": "03982086590103784785"
     },
     "user_tz": -180
    },
    "id": "O00TuOBrn51_",
    "outputId": "57e95f3a-ee51-4a27-9420-861420768242"
   },
   "outputs": [
    {
     "name": "stdout",
     "output_type": "stream",
     "text": [
      "Hello Ali, Ahmet, Mehmet, \n",
      "Hello Ali, Zeynep, Cem, Tolga, Ayşe, Berk, "
     ]
    }
   ],
   "source": [
    "def greet(*names):\n",
    "\ti=0\n",
    "\tprint('Hello ', end='')\n",
    "\twhile len(names) > i:\n",
    "\t\tprint(names[i], end=', ')\n",
    "\t\ti+=1\n",
    "\n",
    "greet('Ali', 'Ahmet', 'Mehmet') \n",
    "print()\n",
    "greet('Ali', 'Zeynep', 'Cem', 'Tolga', 'Ayşe', 'Berk') "
   ]
  },
  {
   "cell_type": "markdown",
   "id": "O4-ugYvihJOd",
   "metadata": {
    "id": "O4-ugYvihJOd"
   },
   "source": [
    "## Unknown Keyword Argument **kwarg"
   ]
  },
  {
   "cell_type": "code",
   "execution_count": 276,
   "id": "pnz9rwjGhMV0",
   "metadata": {
    "colab": {
     "base_uri": "https://localhost:8080/"
    },
    "executionInfo": {
     "elapsed": 51,
     "status": "ok",
     "timestamp": 1639915856591,
     "user": {
      "displayName": "Bünyamin Polat",
      "photoUrl": "https://lh3.googleusercontent.com/a/default-user=s64",
      "userId": "03982086590103784785"
     },
     "user_tz": -180
    },
    "id": "pnz9rwjGhMV0",
    "outputId": "860739ae-95e5-4b10-a0a5-9f113690a2ad"
   },
   "outputs": [
    {
     "name": "stdout",
     "output_type": "stream",
     "text": [
      "Hello  Ali Kaya\n",
      "Hello  Aydın Ahmet\n",
      "Hello  Ayşe Yıldız\n"
     ]
    }
   ],
   "source": [
    "def greet(**person):\n",
    "\tprint('Hello ', person['firstname'],  person['lastname'])\n",
    "\n",
    "greet(firstname='Ali', lastname='Kaya')\n",
    "greet(lastname='Ahmet', firstname='Aydın')\n",
    "greet(firstname='Ayşe', lastname='Yıldız', age=55) "
   ]
  },
  {
   "cell_type": "markdown",
   "id": "0d46a805",
   "metadata": {
    "id": "0d46a805"
   },
   "source": [
    "## Local & Global Variables"
   ]
  },
  {
   "cell_type": "code",
   "execution_count": 277,
   "id": "6043cf71",
   "metadata": {
    "colab": {
     "base_uri": "https://localhost:8080/"
    },
    "executionInfo": {
     "elapsed": 47,
     "status": "ok",
     "timestamp": 1639915856592,
     "user": {
      "displayName": "Bünyamin Polat",
      "photoUrl": "https://lh3.googleusercontent.com/a/default-user=s64",
      "userId": "03982086590103784785"
     },
     "user_tz": -180
    },
    "id": "6043cf71",
    "outputId": "cbaac1c4-8543-40b4-dead-1099afa96ab3"
   },
   "outputs": [
    {
     "name": "stdout",
     "output_type": "stream",
     "text": [
      "Python is awesome\n"
     ]
    }
   ],
   "source": [
    "x = \"awesome\"\n",
    "\n",
    "def myfunc():\n",
    "    print(\"Python is \" +      x)\n",
    "\n",
    "myfunc()"
   ]
  },
  {
   "cell_type": "code",
   "execution_count": 278,
   "id": "776da5f2",
   "metadata": {
    "colab": {
     "base_uri": "https://localhost:8080/"
    },
    "executionInfo": {
     "elapsed": 43,
     "status": "ok",
     "timestamp": 1639915856592,
     "user": {
      "displayName": "Bünyamin Polat",
      "photoUrl": "https://lh3.googleusercontent.com/a/default-user=s64",
      "userId": "03982086590103784785"
     },
     "user_tz": -180
    },
    "id": "776da5f2",
    "outputId": "bc1e8d50-213a-4fa1-b167-06486201ec48"
   },
   "outputs": [
    {
     "name": "stdout",
     "output_type": "stream",
     "text": [
      "8\n",
      "Python is awesome\n"
     ]
    }
   ],
   "source": [
    "def topla(a,b):\n",
    "    return a+b\n",
    "    \n",
    "print(topla(5,3))\n",
    "\n",
    "myfunc()"
   ]
  },
  {
   "cell_type": "code",
   "execution_count": 279,
   "id": "7a2a84b8",
   "metadata": {
    "colab": {
     "base_uri": "https://localhost:8080/"
    },
    "executionInfo": {
     "elapsed": 37,
     "status": "ok",
     "timestamp": 1639915856592,
     "user": {
      "displayName": "Bünyamin Polat",
      "photoUrl": "https://lh3.googleusercontent.com/a/default-user=s64",
      "userId": "03982086590103784785"
     },
     "user_tz": -180
    },
    "id": "7a2a84b8",
    "outputId": "c6569ca9-0e82-4cb8-f15a-f48f7e227f2c"
   },
   "outputs": [
    {
     "name": "stdout",
     "output_type": "stream",
     "text": [
      "Python is fantastic\n",
      "Python is awesome\n"
     ]
    }
   ],
   "source": [
    "x = \"awesome\"\n",
    "\n",
    "def myfunc():\n",
    "    x = \"fantastic\"\n",
    "    print(\"Python is \" + x)\n",
    "\n",
    "myfunc()\n",
    "\n",
    "print(\"Python is \" + x)"
   ]
  }
 ],
 "metadata": {
  "colab": {
   "collapsed_sections": [
    "6b4d2e78",
    "9829d80c",
    "0fc9b005",
    "92f41f6a",
    "29cf28bf",
    "0b1c0c21",
    "45771393",
    "6630e4d0",
    "f266c67b",
    "ec80db2b",
    "62000cbe",
    "0028ea28",
    "6012264c",
    "7f375c89",
    "d6e3fb9e",
    "ac48c272",
    "39ef2904",
    "fc63e8a8",
    "GKYfRZ1AXDQr",
    "e38613a3",
    "d34defc0",
    "3363d53e",
    "b086a4c0",
    "ceeb1cde"
   ],
   "name": "Python.ipynb",
   "provenance": [],
   "toc_visible": true
  },
  "kernelspec": {
   "display_name": "Python 3 (ipykernel)",
   "language": "python",
   "name": "python3"
  },
  "language_info": {
   "codemirror_mode": {
    "name": "ipython",
    "version": 3
   },
   "file_extension": ".py",
   "mimetype": "text/x-python",
   "name": "python",
   "nbconvert_exporter": "python",
   "pygments_lexer": "ipython3",
   "version": "3.9.7"
  }
 },
 "nbformat": 4,
 "nbformat_minor": 5
}
